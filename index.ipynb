{
 "cells": [
  {
   "cell_type": "markdown",
   "metadata": {},
   "source": [
    "# Welcome to \"The Real House Helps of Kawagware\" Episode Link Retrieval Notebook!\n",
    "\n",
    "🎬 Lights, Camera, Links! 📺\n",
    "\n",
    "Get ready to streamline your \"Real House Helps of Kawagware\" binge-watching experience like never before! In this notebook, we're on a mission to organize and gather all the episode links from the show's YouTube channel, ensuring you can navigate through the series effortlessly.\n",
    "\n",
    "No more endless scrolling or frantic searching – we're here to curate a neatly ordered list of episode links, so you can dive straight into the drama without missing a beat. From the pilot to the latest release, every episode link will be at your fingertips, meticulously arranged for your convenience.\n",
    "\n",
    "Join us as we harness the power of web scraping to extract these valuable links, ensuring they're presented in perfect sequential order. With our streamlined approach, you'll spend less time searching and more time indulging in the captivating world of \"The Real House Helps of Kawagware.\"\n",
    "\n",
    "So grab your 🍿, settle into your favorite spot, and let's embark on this quest to organize and conquer the episode links. Lights, camera, links – let's make binge-watching a breeze!"
   ]
  },
  {
   "cell_type": "markdown",
   "metadata": {},
   "source": [
    "# imports\n",
    "\n",
    "importing the necessary libraries for the project "
   ]
  },
  {
   "cell_type": "code",
   "execution_count": 3,
   "metadata": {},
   "outputs": [],
   "source": [
    "# common imports \n",
    "import numpy as np\n",
    "import pandas as pd"
   ]
  },
  {
   "cell_type": "markdown",
   "metadata": {},
   "source": [
    "\n",
    "# Data Sources \n",
    "\n",
    "the data source for this project is going to be youtube data is scraped using scrape tube package from the TRHK main youtube channel \n",
    "\n",
    "### Scrape Tube\n",
    "\n",
    "ScrapeTube is a Python library designed specifically for scraping  data from YouTube. It offers a convenient and efficient way to extract various types of information from YouTube channels, videos, and playlists. 📺 👾\n",
    "\n",
    "[ Check out ScrapeTube here!](https://github.com/TeamHG-Memex/scrape-tube) "
   ]
  },
  {
   "cell_type": "code",
   "execution_count": 2,
   "metadata": {},
   "outputs": [],
   "source": [
    "# Scrapetube import\n",
    "import scrapetube\n",
    "\n",
    "# Getting data from the TRHK \n",
    "videos = scrapetube.get_channel(\"UCP456Szyc9zy-f0j3UoHzeg\")\n",
    "\n"
   ]
  },
  {
   "cell_type": "markdown",
   "metadata": {},
   "source": [
    "An empty data frame to store our data, let's call it  `df`\n"
   ]
  },
  {
   "cell_type": "code",
   "execution_count": 3,
   "metadata": {},
   "outputs": [],
   "source": [
    "df = pd.DataFrame()"
   ]
  },
  {
   "cell_type": "markdown",
   "metadata": {},
   "source": [
    "loop through all the found videos assigning the to a list \n",
    "loop through all of the YouTube video objects found in the search results and  assign them to a list\n"
   ]
  },
  {
   "cell_type": "code",
   "execution_count": 4,
   "metadata": {},
   "outputs": [],
   "source": [
    "\n",
    "videos_list = []\n",
    "for video in  videos:\n",
    "    videos_list.append(video)"
   ]
  },
  {
   "cell_type": "markdown",
   "metadata": {},
   "source": [
    "convert the list to a pandas data frame [df = pd.DataFrame (list)]\n"
   ]
  },
  {
   "cell_type": "code",
   "execution_count": 5,
   "metadata": {},
   "outputs": [],
   "source": [
    "df = pd.DataFrame(videos_list)"
   ]
  },
  {
   "cell_type": "code",
   "execution_count": 6,
   "metadata": {},
   "outputs": [],
   "source": [
    "# save a copy of our scraped data before cleaning \n",
    "df.to_csv(\"data/scraped_data.csv\")"
   ]
  },
  {
   "cell_type": "markdown",
   "metadata": {},
   "source": [
    "## Data Description"
   ]
  },
  {
   "cell_type": "code",
   "execution_count": 7,
   "metadata": {},
   "outputs": [
    {
     "name": "stdout",
     "output_type": "stream",
     "text": [
      "<class 'pandas.core.frame.DataFrame'>\n",
      "RangeIndex: 710 entries, 0 to 709\n",
      "Data columns (total 14 columns):\n",
      " #   Column              Non-Null Count  Dtype \n",
      "---  ------              --------------  ----- \n",
      " 0   videoId             710 non-null    object\n",
      " 1   thumbnail           710 non-null    object\n",
      " 2   title               710 non-null    object\n",
      " 3   descriptionSnippet  709 non-null    object\n",
      " 4   publishedTimeText   710 non-null    object\n",
      " 5   lengthText          710 non-null    object\n",
      " 6   viewCountText       710 non-null    object\n",
      " 7   navigationEndpoint  710 non-null    object\n",
      " 8   trackingParams      710 non-null    object\n",
      " 9   showActionMenu      710 non-null    bool  \n",
      " 10  shortViewCountText  710 non-null    object\n",
      " 11  menu                710 non-null    object\n",
      " 12  thumbnailOverlays   710 non-null    object\n",
      " 13  richThumbnail       564 non-null    object\n",
      "dtypes: bool(1), object(13)\n",
      "memory usage: 72.9+ KB\n"
     ]
    }
   ],
   "source": [
    "# getting Dataframe info\n",
    "df.info()"
   ]
  },
  {
   "cell_type": "markdown",
   "metadata": {},
   "source": [
    "- We have 710 videos from the channel with 14 columns  ����\n",
    "\n",
    "- Most of our data is in nested objects / lists and needs to be cleaned 🧹\n",
    "\n",
    "- We also have unnecessary columns for our use case  🗑️\n",
    "\n",
    "- Our data is relatively clean with only a few missing rows 🧐 \n"
   ]
  },
  {
   "cell_type": "markdown",
   "metadata": {},
   "source": [
    "## Data Cleaning"
   ]
  },
  {
   "cell_type": "markdown",
   "metadata": {},
   "source": [
    "### Dropping unnecessary columns  \n",
    "\n",
    "we have the following columns \n",
    "\n",
    "* **videoId** - the unique identifier for  the video\n",
    "\n",
    "* **thumbnail** - a  thumbnail image of the video\n",
    "\n",
    "* **title** - the title of the video\n",
    "\n",
    "* **descriptionSnippet**  - a short description of the video\n",
    "\n",
    "* **publishedTimeText** - the date and time the video was published\n",
    "\n",
    "* **lengthText** - the length of the video\n",
    "\n",
    "* **viewCountText** - the number of views the video has received \n",
    "\n",
    "### Columns to drop\n",
    "\n",
    "The following columns are not necessary for our analysis and can  be dropped:\n",
    "\n",
    "* `navigationEndpoint`: This column contains the URL to the video's page on YouTube.\n",
    "* `trackingParams`: This column contains  tracking parameters that are used by YouTube to track the performance of the video.\n",
    "* `showActionMenu`: This column indicates whether or not the action menu is visible on the video's page.\n",
    "* `shortViewCountText`: This column contains the number of short views the video has received.\n",
    "* ` menu`: This column contains the menu items that are available on the video's page.\n",
    "* `thumbnailOverlays`: This column contains the overlays that are displayed on the video's thumbnail.\n",
    "* `richThumbnail`: This column contains the rich thumbnail that is displayed on the video's page. \n"
   ]
  },
  {
   "cell_type": "code",
   "execution_count": 8,
   "metadata": {},
   "outputs": [
    {
     "data": {
      "text/html": [
       "<div>\n",
       "<style scoped>\n",
       "    .dataframe tbody tr th:only-of-type {\n",
       "        vertical-align: middle;\n",
       "    }\n",
       "\n",
       "    .dataframe tbody tr th {\n",
       "        vertical-align: top;\n",
       "    }\n",
       "\n",
       "    .dataframe thead th {\n",
       "        text-align: right;\n",
       "    }\n",
       "</style>\n",
       "<table border=\"1\" class=\"dataframe\">\n",
       "  <thead>\n",
       "    <tr style=\"text-align: right;\">\n",
       "      <th></th>\n",
       "      <th>videoId</th>\n",
       "      <th>thumbnail</th>\n",
       "      <th>title</th>\n",
       "      <th>descriptionSnippet</th>\n",
       "      <th>publishedTimeText</th>\n",
       "      <th>lengthText</th>\n",
       "      <th>viewCountText</th>\n",
       "    </tr>\n",
       "  </thead>\n",
       "  <tbody>\n",
       "    <tr>\n",
       "      <th>0</th>\n",
       "      <td>nsJIaPvbspg</td>\n",
       "      <td>{'thumbnails': [{'url': 'https://i.ytimg.com/v...</td>\n",
       "      <td>{'runs': [{'text': 'Heartbreak ni ile ile | TR...</td>\n",
       "      <td>{'runs': [{'text': 'The Real Househelps of Kaw...</td>\n",
       "      <td>{'simpleText': '10 months ago'}</td>\n",
       "      <td>{'accessibility': {'accessibilityData': {'labe...</td>\n",
       "      <td>{'simpleText': '251,135 views'}</td>\n",
       "    </tr>\n",
       "    <tr>\n",
       "      <th>1</th>\n",
       "      <td>kn11JasWx28</td>\n",
       "      <td>{'thumbnails': [{'url': 'https://i.ytimg.com/v...</td>\n",
       "      <td>{'runs': [{'text': 'Luma Mongaras wakwende uko...</td>\n",
       "      <td>{'runs': [{'text': 'The Real Househelps of Kaw...</td>\n",
       "      <td>{'simpleText': '10 months ago'}</td>\n",
       "      <td>{'accessibility': {'accessibilityData': {'labe...</td>\n",
       "      <td>{'simpleText': '197,956 views'}</td>\n",
       "    </tr>\n",
       "    <tr>\n",
       "      <th>2</th>\n",
       "      <td>EqvW6AwLB5s</td>\n",
       "      <td>{'thumbnails': [{'url': 'https://i.ytimg.com/v...</td>\n",
       "      <td>{'runs': [{'text': 'Mapenzi Inawaramba! | TRHK...</td>\n",
       "      <td>{'runs': [{'text': 'The Real Househelps of Kaw...</td>\n",
       "      <td>{'simpleText': '10 months ago'}</td>\n",
       "      <td>{'accessibility': {'accessibilityData': {'labe...</td>\n",
       "      <td>{'simpleText': '47,116 views'}</td>\n",
       "    </tr>\n",
       "    <tr>\n",
       "      <th>3</th>\n",
       "      <td>xX_6THG8YR4</td>\n",
       "      <td>{'thumbnails': [{'url': 'https://i.ytimg.com/v...</td>\n",
       "      <td>{'runs': [{'text': 'Ndanda ni wewe! | TRHK EP3...</td>\n",
       "      <td>{'runs': [{'text': 'The Real Househelps of Kaw...</td>\n",
       "      <td>{'simpleText': '10 months ago'}</td>\n",
       "      <td>{'accessibility': {'accessibilityData': {'labe...</td>\n",
       "      <td>{'simpleText': '153,011 views'}</td>\n",
       "    </tr>\n",
       "    <tr>\n",
       "      <th>4</th>\n",
       "      <td>qZ2jpOiPQsQ</td>\n",
       "      <td>{'thumbnails': [{'url': 'https://i.ytimg.com/v...</td>\n",
       "      <td>{'runs': [{'text': 'He he he!!! Sema kuwithdra...</td>\n",
       "      <td>{'runs': [{'text': 'The Real Househelps of Kaw...</td>\n",
       "      <td>{'simpleText': '10 months ago'}</td>\n",
       "      <td>{'accessibility': {'accessibilityData': {'labe...</td>\n",
       "      <td>{'simpleText': '179,489 views'}</td>\n",
       "    </tr>\n",
       "  </tbody>\n",
       "</table>\n",
       "</div>"
      ],
      "text/plain": [
       "       videoId                                          thumbnail  \\\n",
       "0  nsJIaPvbspg  {'thumbnails': [{'url': 'https://i.ytimg.com/v...   \n",
       "1  kn11JasWx28  {'thumbnails': [{'url': 'https://i.ytimg.com/v...   \n",
       "2  EqvW6AwLB5s  {'thumbnails': [{'url': 'https://i.ytimg.com/v...   \n",
       "3  xX_6THG8YR4  {'thumbnails': [{'url': 'https://i.ytimg.com/v...   \n",
       "4  qZ2jpOiPQsQ  {'thumbnails': [{'url': 'https://i.ytimg.com/v...   \n",
       "\n",
       "                                               title  \\\n",
       "0  {'runs': [{'text': 'Heartbreak ni ile ile | TR...   \n",
       "1  {'runs': [{'text': 'Luma Mongaras wakwende uko...   \n",
       "2  {'runs': [{'text': 'Mapenzi Inawaramba! | TRHK...   \n",
       "3  {'runs': [{'text': 'Ndanda ni wewe! | TRHK EP3...   \n",
       "4  {'runs': [{'text': 'He he he!!! Sema kuwithdra...   \n",
       "\n",
       "                                  descriptionSnippet  \\\n",
       "0  {'runs': [{'text': 'The Real Househelps of Kaw...   \n",
       "1  {'runs': [{'text': 'The Real Househelps of Kaw...   \n",
       "2  {'runs': [{'text': 'The Real Househelps of Kaw...   \n",
       "3  {'runs': [{'text': 'The Real Househelps of Kaw...   \n",
       "4  {'runs': [{'text': 'The Real Househelps of Kaw...   \n",
       "\n",
       "                 publishedTimeText  \\\n",
       "0  {'simpleText': '10 months ago'}   \n",
       "1  {'simpleText': '10 months ago'}   \n",
       "2  {'simpleText': '10 months ago'}   \n",
       "3  {'simpleText': '10 months ago'}   \n",
       "4  {'simpleText': '10 months ago'}   \n",
       "\n",
       "                                          lengthText  \\\n",
       "0  {'accessibility': {'accessibilityData': {'labe...   \n",
       "1  {'accessibility': {'accessibilityData': {'labe...   \n",
       "2  {'accessibility': {'accessibilityData': {'labe...   \n",
       "3  {'accessibility': {'accessibilityData': {'labe...   \n",
       "4  {'accessibility': {'accessibilityData': {'labe...   \n",
       "\n",
       "                     viewCountText  \n",
       "0  {'simpleText': '251,135 views'}  \n",
       "1  {'simpleText': '197,956 views'}  \n",
       "2   {'simpleText': '47,116 views'}  \n",
       "3  {'simpleText': '153,011 views'}  \n",
       "4  {'simpleText': '179,489 views'}  "
      ]
     },
     "execution_count": 8,
     "metadata": {},
     "output_type": "execute_result"
    }
   ],
   "source": [
    "df = df.drop(columns=['trackingParams','showActionMenu','shortViewCountText','menu','thumbnailOverlays','richThumbnail',\"navigationEndpoint\"])\n",
    "df.head(5)"
   ]
  },
  {
   "cell_type": "markdown",
   "metadata": {},
   "source": [
    "## checking for null values "
   ]
  },
  {
   "cell_type": "code",
   "execution_count": 9,
   "metadata": {},
   "outputs": [
    {
     "data": {
      "text/plain": [
       "videoId               0\n",
       "thumbnail             0\n",
       "title                 0\n",
       "descriptionSnippet    1\n",
       "publishedTimeText     0\n",
       "lengthText            0\n",
       "viewCountText         0\n",
       "dtype: int64"
      ]
     },
     "execution_count": 9,
     "metadata": {},
     "output_type": "execute_result"
    }
   ],
   "source": [
    "df.isnull().sum()"
   ]
  },
  {
   "cell_type": "markdown",
   "metadata": {},
   "source": [
    "We have only 1 null value in descriptionSnippet"
   ]
  },
  {
   "cell_type": "code",
   "execution_count": 10,
   "metadata": {},
   "outputs": [
    {
     "data": {
      "text/html": [
       "<div>\n",
       "<style scoped>\n",
       "    .dataframe tbody tr th:only-of-type {\n",
       "        vertical-align: middle;\n",
       "    }\n",
       "\n",
       "    .dataframe tbody tr th {\n",
       "        vertical-align: top;\n",
       "    }\n",
       "\n",
       "    .dataframe thead th {\n",
       "        text-align: right;\n",
       "    }\n",
       "</style>\n",
       "<table border=\"1\" class=\"dataframe\">\n",
       "  <thead>\n",
       "    <tr style=\"text-align: right;\">\n",
       "      <th></th>\n",
       "      <th>videoId</th>\n",
       "      <th>thumbnail</th>\n",
       "      <th>title</th>\n",
       "      <th>descriptionSnippet</th>\n",
       "      <th>publishedTimeText</th>\n",
       "      <th>lengthText</th>\n",
       "      <th>viewCountText</th>\n",
       "    </tr>\n",
       "  </thead>\n",
       "  <tbody>\n",
       "    <tr>\n",
       "      <th>709</th>\n",
       "      <td>q7gLD7y8oik</td>\n",
       "      <td>{'thumbnails': [{'url': 'https://i.ytimg.com/v...</td>\n",
       "      <td>{'runs': [{'text': 'The Real Househelps of Kaw...</td>\n",
       "      <td>NaN</td>\n",
       "      <td>{'simpleText': '10 years ago'}</td>\n",
       "      <td>{'accessibility': {'accessibilityData': {'labe...</td>\n",
       "      <td>{'simpleText': '16,037 views'}</td>\n",
       "    </tr>\n",
       "  </tbody>\n",
       "</table>\n",
       "</div>"
      ],
      "text/plain": [
       "         videoId                                          thumbnail  \\\n",
       "709  q7gLD7y8oik  {'thumbnails': [{'url': 'https://i.ytimg.com/v...   \n",
       "\n",
       "                                                 title descriptionSnippet  \\\n",
       "709  {'runs': [{'text': 'The Real Househelps of Kaw...                NaN   \n",
       "\n",
       "                  publishedTimeText  \\\n",
       "709  {'simpleText': '10 years ago'}   \n",
       "\n",
       "                                            lengthText  \\\n",
       "709  {'accessibility': {'accessibilityData': {'labe...   \n",
       "\n",
       "                      viewCountText  \n",
       "709  {'simpleText': '16,037 views'}  "
      ]
     },
     "execution_count": 10,
     "metadata": {},
     "output_type": "execute_result"
    }
   ],
   "source": [
    "# finding the row with the null value\n",
    "df[df[\"descriptionSnippet\"].isna()]"
   ]
  },
  {
   "cell_type": "markdown",
   "metadata": {},
   "source": [
    "The above column is the column with null value"
   ]
  },
  {
   "cell_type": "markdown",
   "metadata": {},
   "source": [
    "## Data conversion\n",
    "\n",
    "### Cleaning thumbnail column"
   ]
  },
  {
   "cell_type": "code",
   "execution_count": 11,
   "metadata": {},
   "outputs": [
    {
     "data": {
      "text/html": [
       "<div>\n",
       "<style scoped>\n",
       "    .dataframe tbody tr th:only-of-type {\n",
       "        vertical-align: middle;\n",
       "    }\n",
       "\n",
       "    .dataframe tbody tr th {\n",
       "        vertical-align: top;\n",
       "    }\n",
       "\n",
       "    .dataframe thead th {\n",
       "        text-align: right;\n",
       "    }\n",
       "</style>\n",
       "<table border=\"1\" class=\"dataframe\">\n",
       "  <thead>\n",
       "    <tr style=\"text-align: right;\">\n",
       "      <th></th>\n",
       "      <th>videoId</th>\n",
       "      <th>thumbnail</th>\n",
       "      <th>title</th>\n",
       "      <th>descriptionSnippet</th>\n",
       "      <th>publishedTimeText</th>\n",
       "      <th>lengthText</th>\n",
       "      <th>viewCountText</th>\n",
       "    </tr>\n",
       "  </thead>\n",
       "  <tbody>\n",
       "    <tr>\n",
       "      <th>0</th>\n",
       "      <td>nsJIaPvbspg</td>\n",
       "      <td>https://i.ytimg.com/vi/nsJIaPvbspg/hqdefault.j...</td>\n",
       "      <td>{'runs': [{'text': 'Heartbreak ni ile ile | TR...</td>\n",
       "      <td>{'runs': [{'text': 'The Real Househelps of Kaw...</td>\n",
       "      <td>{'simpleText': '10 months ago'}</td>\n",
       "      <td>{'accessibility': {'accessibilityData': {'labe...</td>\n",
       "      <td>{'simpleText': '251,135 views'}</td>\n",
       "    </tr>\n",
       "    <tr>\n",
       "      <th>1</th>\n",
       "      <td>kn11JasWx28</td>\n",
       "      <td>https://i.ytimg.com/vi/kn11JasWx28/hqdefault.j...</td>\n",
       "      <td>{'runs': [{'text': 'Luma Mongaras wakwende uko...</td>\n",
       "      <td>{'runs': [{'text': 'The Real Househelps of Kaw...</td>\n",
       "      <td>{'simpleText': '10 months ago'}</td>\n",
       "      <td>{'accessibility': {'accessibilityData': {'labe...</td>\n",
       "      <td>{'simpleText': '197,956 views'}</td>\n",
       "    </tr>\n",
       "  </tbody>\n",
       "</table>\n",
       "</div>"
      ],
      "text/plain": [
       "       videoId                                          thumbnail  \\\n",
       "0  nsJIaPvbspg  https://i.ytimg.com/vi/nsJIaPvbspg/hqdefault.j...   \n",
       "1  kn11JasWx28  https://i.ytimg.com/vi/kn11JasWx28/hqdefault.j...   \n",
       "\n",
       "                                               title  \\\n",
       "0  {'runs': [{'text': 'Heartbreak ni ile ile | TR...   \n",
       "1  {'runs': [{'text': 'Luma Mongaras wakwende uko...   \n",
       "\n",
       "                                  descriptionSnippet  \\\n",
       "0  {'runs': [{'text': 'The Real Househelps of Kaw...   \n",
       "1  {'runs': [{'text': 'The Real Househelps of Kaw...   \n",
       "\n",
       "                 publishedTimeText  \\\n",
       "0  {'simpleText': '10 months ago'}   \n",
       "1  {'simpleText': '10 months ago'}   \n",
       "\n",
       "                                          lengthText  \\\n",
       "0  {'accessibility': {'accessibilityData': {'labe...   \n",
       "1  {'accessibility': {'accessibilityData': {'labe...   \n",
       "\n",
       "                     viewCountText  \n",
       "0  {'simpleText': '251,135 views'}  \n",
       "1  {'simpleText': '197,956 views'}  "
      ]
     },
     "execution_count": 11,
     "metadata": {},
     "output_type": "execute_result"
    }
   ],
   "source": [
    "# Getting thumbnail link from nested data \n",
    "df['thumbnail'] = df['thumbnail'].apply(lambda x:x['thumbnails'][0]['url'])\n",
    "df.head(2)"
   ]
  },
  {
   "cell_type": "markdown",
   "metadata": {},
   "source": [
    "### Cleaning title Column "
   ]
  },
  {
   "cell_type": "code",
   "execution_count": 12,
   "metadata": {},
   "outputs": [
    {
     "data": {
      "text/html": [
       "<div>\n",
       "<style scoped>\n",
       "    .dataframe tbody tr th:only-of-type {\n",
       "        vertical-align: middle;\n",
       "    }\n",
       "\n",
       "    .dataframe tbody tr th {\n",
       "        vertical-align: top;\n",
       "    }\n",
       "\n",
       "    .dataframe thead th {\n",
       "        text-align: right;\n",
       "    }\n",
       "</style>\n",
       "<table border=\"1\" class=\"dataframe\">\n",
       "  <thead>\n",
       "    <tr style=\"text-align: right;\">\n",
       "      <th></th>\n",
       "      <th>videoId</th>\n",
       "      <th>thumbnail</th>\n",
       "      <th>title</th>\n",
       "      <th>descriptionSnippet</th>\n",
       "      <th>publishedTimeText</th>\n",
       "      <th>lengthText</th>\n",
       "      <th>viewCountText</th>\n",
       "    </tr>\n",
       "  </thead>\n",
       "  <tbody>\n",
       "    <tr>\n",
       "      <th>0</th>\n",
       "      <td>nsJIaPvbspg</td>\n",
       "      <td>https://i.ytimg.com/vi/nsJIaPvbspg/hqdefault.j...</td>\n",
       "      <td>Heartbreak ni ile ile | TRHK EP312 Pt 2</td>\n",
       "      <td>{'runs': [{'text': 'The Real Househelps of Kaw...</td>\n",
       "      <td>{'simpleText': '10 months ago'}</td>\n",
       "      <td>{'accessibility': {'accessibilityData': {'labe...</td>\n",
       "      <td>{'simpleText': '251,135 views'}</td>\n",
       "    </tr>\n",
       "    <tr>\n",
       "      <th>1</th>\n",
       "      <td>kn11JasWx28</td>\n",
       "      <td>https://i.ytimg.com/vi/kn11JasWx28/hqdefault.j...</td>\n",
       "      <td>Luma Mongaras wakwende uko NKT! | TRHK EP312 Pt 1</td>\n",
       "      <td>{'runs': [{'text': 'The Real Househelps of Kaw...</td>\n",
       "      <td>{'simpleText': '10 months ago'}</td>\n",
       "      <td>{'accessibility': {'accessibilityData': {'labe...</td>\n",
       "      <td>{'simpleText': '197,956 views'}</td>\n",
       "    </tr>\n",
       "  </tbody>\n",
       "</table>\n",
       "</div>"
      ],
      "text/plain": [
       "       videoId                                          thumbnail  \\\n",
       "0  nsJIaPvbspg  https://i.ytimg.com/vi/nsJIaPvbspg/hqdefault.j...   \n",
       "1  kn11JasWx28  https://i.ytimg.com/vi/kn11JasWx28/hqdefault.j...   \n",
       "\n",
       "                                               title  \\\n",
       "0            Heartbreak ni ile ile | TRHK EP312 Pt 2   \n",
       "1  Luma Mongaras wakwende uko NKT! | TRHK EP312 Pt 1   \n",
       "\n",
       "                                  descriptionSnippet  \\\n",
       "0  {'runs': [{'text': 'The Real Househelps of Kaw...   \n",
       "1  {'runs': [{'text': 'The Real Househelps of Kaw...   \n",
       "\n",
       "                 publishedTimeText  \\\n",
       "0  {'simpleText': '10 months ago'}   \n",
       "1  {'simpleText': '10 months ago'}   \n",
       "\n",
       "                                          lengthText  \\\n",
       "0  {'accessibility': {'accessibilityData': {'labe...   \n",
       "1  {'accessibility': {'accessibilityData': {'labe...   \n",
       "\n",
       "                     viewCountText  \n",
       "0  {'simpleText': '251,135 views'}  \n",
       "1  {'simpleText': '197,956 views'}  "
      ]
     },
     "execution_count": 12,
     "metadata": {},
     "output_type": "execute_result"
    }
   ],
   "source": [
    "# Getting title text from nested title data\n",
    "df['title'] = df[\"title\"].apply(lambda x:x['runs'][0]['text'])\n",
    "df.head(2)"
   ]
  },
  {
   "cell_type": "markdown",
   "metadata": {},
   "source": [
    "### Cleaning descriptionSnippet Column"
   ]
  },
  {
   "cell_type": "code",
   "execution_count": 13,
   "metadata": {},
   "outputs": [
    {
     "data": {
      "text/html": [
       "<div>\n",
       "<style scoped>\n",
       "    .dataframe tbody tr th:only-of-type {\n",
       "        vertical-align: middle;\n",
       "    }\n",
       "\n",
       "    .dataframe tbody tr th {\n",
       "        vertical-align: top;\n",
       "    }\n",
       "\n",
       "    .dataframe thead th {\n",
       "        text-align: right;\n",
       "    }\n",
       "</style>\n",
       "<table border=\"1\" class=\"dataframe\">\n",
       "  <thead>\n",
       "    <tr style=\"text-align: right;\">\n",
       "      <th></th>\n",
       "      <th>videoId</th>\n",
       "      <th>thumbnail</th>\n",
       "      <th>title</th>\n",
       "      <th>descriptionSnippet</th>\n",
       "      <th>publishedTimeText</th>\n",
       "      <th>lengthText</th>\n",
       "      <th>viewCountText</th>\n",
       "    </tr>\n",
       "  </thead>\n",
       "  <tbody>\n",
       "    <tr>\n",
       "      <th>0</th>\n",
       "      <td>nsJIaPvbspg</td>\n",
       "      <td>https://i.ytimg.com/vi/nsJIaPvbspg/hqdefault.j...</td>\n",
       "      <td>Heartbreak ni ile ile | TRHK EP312 Pt 2</td>\n",
       "      <td>The Real Househelps of Kawangware follows the ...</td>\n",
       "      <td>{'simpleText': '10 months ago'}</td>\n",
       "      <td>{'accessibility': {'accessibilityData': {'labe...</td>\n",
       "      <td>{'simpleText': '251,135 views'}</td>\n",
       "    </tr>\n",
       "    <tr>\n",
       "      <th>1</th>\n",
       "      <td>kn11JasWx28</td>\n",
       "      <td>https://i.ytimg.com/vi/kn11JasWx28/hqdefault.j...</td>\n",
       "      <td>Luma Mongaras wakwende uko NKT! | TRHK EP312 Pt 1</td>\n",
       "      <td>The Real Househelps of Kawangware follows the ...</td>\n",
       "      <td>{'simpleText': '10 months ago'}</td>\n",
       "      <td>{'accessibility': {'accessibilityData': {'labe...</td>\n",
       "      <td>{'simpleText': '197,956 views'}</td>\n",
       "    </tr>\n",
       "  </tbody>\n",
       "</table>\n",
       "</div>"
      ],
      "text/plain": [
       "       videoId                                          thumbnail  \\\n",
       "0  nsJIaPvbspg  https://i.ytimg.com/vi/nsJIaPvbspg/hqdefault.j...   \n",
       "1  kn11JasWx28  https://i.ytimg.com/vi/kn11JasWx28/hqdefault.j...   \n",
       "\n",
       "                                               title  \\\n",
       "0            Heartbreak ni ile ile | TRHK EP312 Pt 2   \n",
       "1  Luma Mongaras wakwende uko NKT! | TRHK EP312 Pt 1   \n",
       "\n",
       "                                  descriptionSnippet  \\\n",
       "0  The Real Househelps of Kawangware follows the ...   \n",
       "1  The Real Househelps of Kawangware follows the ...   \n",
       "\n",
       "                 publishedTimeText  \\\n",
       "0  {'simpleText': '10 months ago'}   \n",
       "1  {'simpleText': '10 months ago'}   \n",
       "\n",
       "                                          lengthText  \\\n",
       "0  {'accessibility': {'accessibilityData': {'labe...   \n",
       "1  {'accessibility': {'accessibilityData': {'labe...   \n",
       "\n",
       "                     viewCountText  \n",
       "0  {'simpleText': '251,135 views'}  \n",
       "1  {'simpleText': '197,956 views'}  "
      ]
     },
     "execution_count": 13,
     "metadata": {},
     "output_type": "execute_result"
    }
   ],
   "source": [
    "# Getting description text from nested descriptionSnippet \n",
    "# For null values fill with unknown\n",
    "df['descriptionSnippet'] = df['descriptionSnippet'].apply(lambda x: x['runs'][0]['text'] if isinstance(x,dict) else \"unknown\")\n",
    "df.head(2)"
   ]
  },
  {
   "cell_type": "markdown",
   "metadata": {},
   "source": [
    "### Cleaning publishedTimeText Column"
   ]
  },
  {
   "cell_type": "code",
   "execution_count": 14,
   "metadata": {},
   "outputs": [
    {
     "data": {
      "text/html": [
       "<div>\n",
       "<style scoped>\n",
       "    .dataframe tbody tr th:only-of-type {\n",
       "        vertical-align: middle;\n",
       "    }\n",
       "\n",
       "    .dataframe tbody tr th {\n",
       "        vertical-align: top;\n",
       "    }\n",
       "\n",
       "    .dataframe thead th {\n",
       "        text-align: right;\n",
       "    }\n",
       "</style>\n",
       "<table border=\"1\" class=\"dataframe\">\n",
       "  <thead>\n",
       "    <tr style=\"text-align: right;\">\n",
       "      <th></th>\n",
       "      <th>videoId</th>\n",
       "      <th>thumbnail</th>\n",
       "      <th>title</th>\n",
       "      <th>descriptionSnippet</th>\n",
       "      <th>publishedTimeText</th>\n",
       "      <th>lengthText</th>\n",
       "      <th>viewCountText</th>\n",
       "    </tr>\n",
       "  </thead>\n",
       "  <tbody>\n",
       "    <tr>\n",
       "      <th>0</th>\n",
       "      <td>nsJIaPvbspg</td>\n",
       "      <td>https://i.ytimg.com/vi/nsJIaPvbspg/hqdefault.j...</td>\n",
       "      <td>Heartbreak ni ile ile | TRHK EP312 Pt 2</td>\n",
       "      <td>The Real Househelps of Kawangware follows the ...</td>\n",
       "      <td>10 months ago</td>\n",
       "      <td>{'accessibility': {'accessibilityData': {'labe...</td>\n",
       "      <td>{'simpleText': '251,135 views'}</td>\n",
       "    </tr>\n",
       "    <tr>\n",
       "      <th>1</th>\n",
       "      <td>kn11JasWx28</td>\n",
       "      <td>https://i.ytimg.com/vi/kn11JasWx28/hqdefault.j...</td>\n",
       "      <td>Luma Mongaras wakwende uko NKT! | TRHK EP312 Pt 1</td>\n",
       "      <td>The Real Househelps of Kawangware follows the ...</td>\n",
       "      <td>10 months ago</td>\n",
       "      <td>{'accessibility': {'accessibilityData': {'labe...</td>\n",
       "      <td>{'simpleText': '197,956 views'}</td>\n",
       "    </tr>\n",
       "  </tbody>\n",
       "</table>\n",
       "</div>"
      ],
      "text/plain": [
       "       videoId                                          thumbnail  \\\n",
       "0  nsJIaPvbspg  https://i.ytimg.com/vi/nsJIaPvbspg/hqdefault.j...   \n",
       "1  kn11JasWx28  https://i.ytimg.com/vi/kn11JasWx28/hqdefault.j...   \n",
       "\n",
       "                                               title  \\\n",
       "0            Heartbreak ni ile ile | TRHK EP312 Pt 2   \n",
       "1  Luma Mongaras wakwende uko NKT! | TRHK EP312 Pt 1   \n",
       "\n",
       "                                  descriptionSnippet publishedTimeText  \\\n",
       "0  The Real Househelps of Kawangware follows the ...     10 months ago   \n",
       "1  The Real Househelps of Kawangware follows the ...     10 months ago   \n",
       "\n",
       "                                          lengthText  \\\n",
       "0  {'accessibility': {'accessibilityData': {'labe...   \n",
       "1  {'accessibility': {'accessibilityData': {'labe...   \n",
       "\n",
       "                     viewCountText  \n",
       "0  {'simpleText': '251,135 views'}  \n",
       "1  {'simpleText': '197,956 views'}  "
      ]
     },
     "execution_count": 14,
     "metadata": {},
     "output_type": "execute_result"
    }
   ],
   "source": [
    "# Getting publishedTimeText from nested object \n",
    "df['publishedTimeText'] = df['publishedTimeText'].apply(lambda x:x['simpleText'])\n",
    "df.head(2)"
   ]
  },
  {
   "cell_type": "markdown",
   "metadata": {},
   "source": [
    "### Cleaning LengthText Column "
   ]
  },
  {
   "cell_type": "code",
   "execution_count": 15,
   "metadata": {},
   "outputs": [
    {
     "data": {
      "text/html": [
       "<div>\n",
       "<style scoped>\n",
       "    .dataframe tbody tr th:only-of-type {\n",
       "        vertical-align: middle;\n",
       "    }\n",
       "\n",
       "    .dataframe tbody tr th {\n",
       "        vertical-align: top;\n",
       "    }\n",
       "\n",
       "    .dataframe thead th {\n",
       "        text-align: right;\n",
       "    }\n",
       "</style>\n",
       "<table border=\"1\" class=\"dataframe\">\n",
       "  <thead>\n",
       "    <tr style=\"text-align: right;\">\n",
       "      <th></th>\n",
       "      <th>videoId</th>\n",
       "      <th>thumbnail</th>\n",
       "      <th>title</th>\n",
       "      <th>descriptionSnippet</th>\n",
       "      <th>publishedTimeText</th>\n",
       "      <th>lengthText</th>\n",
       "      <th>viewCountText</th>\n",
       "    </tr>\n",
       "  </thead>\n",
       "  <tbody>\n",
       "    <tr>\n",
       "      <th>0</th>\n",
       "      <td>nsJIaPvbspg</td>\n",
       "      <td>https://i.ytimg.com/vi/nsJIaPvbspg/hqdefault.j...</td>\n",
       "      <td>Heartbreak ni ile ile | TRHK EP312 Pt 2</td>\n",
       "      <td>The Real Househelps of Kawangware follows the ...</td>\n",
       "      <td>10 months ago</td>\n",
       "      <td>12 minutes, 36 seconds</td>\n",
       "      <td>{'simpleText': '251,135 views'}</td>\n",
       "    </tr>\n",
       "    <tr>\n",
       "      <th>1</th>\n",
       "      <td>kn11JasWx28</td>\n",
       "      <td>https://i.ytimg.com/vi/kn11JasWx28/hqdefault.j...</td>\n",
       "      <td>Luma Mongaras wakwende uko NKT! | TRHK EP312 Pt 1</td>\n",
       "      <td>The Real Househelps of Kawangware follows the ...</td>\n",
       "      <td>10 months ago</td>\n",
       "      <td>11 minutes, 18 seconds</td>\n",
       "      <td>{'simpleText': '197,956 views'}</td>\n",
       "    </tr>\n",
       "  </tbody>\n",
       "</table>\n",
       "</div>"
      ],
      "text/plain": [
       "       videoId                                          thumbnail  \\\n",
       "0  nsJIaPvbspg  https://i.ytimg.com/vi/nsJIaPvbspg/hqdefault.j...   \n",
       "1  kn11JasWx28  https://i.ytimg.com/vi/kn11JasWx28/hqdefault.j...   \n",
       "\n",
       "                                               title  \\\n",
       "0            Heartbreak ni ile ile | TRHK EP312 Pt 2   \n",
       "1  Luma Mongaras wakwende uko NKT! | TRHK EP312 Pt 1   \n",
       "\n",
       "                                  descriptionSnippet publishedTimeText  \\\n",
       "0  The Real Househelps of Kawangware follows the ...     10 months ago   \n",
       "1  The Real Househelps of Kawangware follows the ...     10 months ago   \n",
       "\n",
       "               lengthText                    viewCountText  \n",
       "0  12 minutes, 36 seconds  {'simpleText': '251,135 views'}  \n",
       "1  11 minutes, 18 seconds  {'simpleText': '197,956 views'}  "
      ]
     },
     "execution_count": 15,
     "metadata": {},
     "output_type": "execute_result"
    }
   ],
   "source": [
    "# Getting lengthText from nested object  \n",
    "df[\"lengthText\"] = df[\"lengthText\"].apply(lambda x:x['accessibility']['accessibilityData']['label'])\n",
    "df.head(2)"
   ]
  },
  {
   "cell_type": "markdown",
   "metadata": {},
   "source": [
    "### Cleaning viewCountText Column"
   ]
  },
  {
   "cell_type": "code",
   "execution_count": 16,
   "metadata": {},
   "outputs": [
    {
     "data": {
      "text/html": [
       "<div>\n",
       "<style scoped>\n",
       "    .dataframe tbody tr th:only-of-type {\n",
       "        vertical-align: middle;\n",
       "    }\n",
       "\n",
       "    .dataframe tbody tr th {\n",
       "        vertical-align: top;\n",
       "    }\n",
       "\n",
       "    .dataframe thead th {\n",
       "        text-align: right;\n",
       "    }\n",
       "</style>\n",
       "<table border=\"1\" class=\"dataframe\">\n",
       "  <thead>\n",
       "    <tr style=\"text-align: right;\">\n",
       "      <th></th>\n",
       "      <th>videoId</th>\n",
       "      <th>thumbnail</th>\n",
       "      <th>title</th>\n",
       "      <th>descriptionSnippet</th>\n",
       "      <th>publishedTimeText</th>\n",
       "      <th>lengthText</th>\n",
       "      <th>viewCountText</th>\n",
       "    </tr>\n",
       "  </thead>\n",
       "  <tbody>\n",
       "    <tr>\n",
       "      <th>0</th>\n",
       "      <td>nsJIaPvbspg</td>\n",
       "      <td>https://i.ytimg.com/vi/nsJIaPvbspg/hqdefault.j...</td>\n",
       "      <td>Heartbreak ni ile ile | TRHK EP312 Pt 2</td>\n",
       "      <td>The Real Househelps of Kawangware follows the ...</td>\n",
       "      <td>10 months ago</td>\n",
       "      <td>12 minutes, 36 seconds</td>\n",
       "      <td>251,135 views</td>\n",
       "    </tr>\n",
       "    <tr>\n",
       "      <th>1</th>\n",
       "      <td>kn11JasWx28</td>\n",
       "      <td>https://i.ytimg.com/vi/kn11JasWx28/hqdefault.j...</td>\n",
       "      <td>Luma Mongaras wakwende uko NKT! | TRHK EP312 Pt 1</td>\n",
       "      <td>The Real Househelps of Kawangware follows the ...</td>\n",
       "      <td>10 months ago</td>\n",
       "      <td>11 minutes, 18 seconds</td>\n",
       "      <td>197,956 views</td>\n",
       "    </tr>\n",
       "  </tbody>\n",
       "</table>\n",
       "</div>"
      ],
      "text/plain": [
       "       videoId                                          thumbnail  \\\n",
       "0  nsJIaPvbspg  https://i.ytimg.com/vi/nsJIaPvbspg/hqdefault.j...   \n",
       "1  kn11JasWx28  https://i.ytimg.com/vi/kn11JasWx28/hqdefault.j...   \n",
       "\n",
       "                                               title  \\\n",
       "0            Heartbreak ni ile ile | TRHK EP312 Pt 2   \n",
       "1  Luma Mongaras wakwende uko NKT! | TRHK EP312 Pt 1   \n",
       "\n",
       "                                  descriptionSnippet publishedTimeText  \\\n",
       "0  The Real Househelps of Kawangware follows the ...     10 months ago   \n",
       "1  The Real Househelps of Kawangware follows the ...     10 months ago   \n",
       "\n",
       "               lengthText  viewCountText  \n",
       "0  12 minutes, 36 seconds  251,135 views  \n",
       "1  11 minutes, 18 seconds  197,956 views  "
      ]
     },
     "execution_count": 16,
     "metadata": {},
     "output_type": "execute_result"
    }
   ],
   "source": [
    "# Getting viewCountText from nested object \n",
    "df['viewCountText'] = df['viewCountText'].apply(lambda x:x['simpleText'])\n",
    "df.head(2)"
   ]
  },
  {
   "cell_type": "markdown",
   "metadata": {},
   "source": [
    "- Append the videoId to end of the YouTube link:  \n"
   ]
  },
  {
   "cell_type": "code",
   "execution_count": 17,
   "metadata": {},
   "outputs": [],
   "source": [
    "df = df.assign(Link='https://www.youtube.com/watch?v='+df['videoId'])\n"
   ]
  },
  {
   "cell_type": "code",
   "execution_count": 18,
   "metadata": {},
   "outputs": [
    {
     "data": {
      "text/html": [
       "<div>\n",
       "<style scoped>\n",
       "    .dataframe tbody tr th:only-of-type {\n",
       "        vertical-align: middle;\n",
       "    }\n",
       "\n",
       "    .dataframe tbody tr th {\n",
       "        vertical-align: top;\n",
       "    }\n",
       "\n",
       "    .dataframe thead th {\n",
       "        text-align: right;\n",
       "    }\n",
       "</style>\n",
       "<table border=\"1\" class=\"dataframe\">\n",
       "  <thead>\n",
       "    <tr style=\"text-align: right;\">\n",
       "      <th></th>\n",
       "      <th>videoId</th>\n",
       "      <th>thumbnail</th>\n",
       "      <th>title</th>\n",
       "      <th>descriptionSnippet</th>\n",
       "      <th>publishedTimeText</th>\n",
       "      <th>lengthText</th>\n",
       "      <th>viewCountText</th>\n",
       "      <th>Link</th>\n",
       "    </tr>\n",
       "  </thead>\n",
       "  <tbody>\n",
       "    <tr>\n",
       "      <th>0</th>\n",
       "      <td>nsJIaPvbspg</td>\n",
       "      <td>https://i.ytimg.com/vi/nsJIaPvbspg/hqdefault.j...</td>\n",
       "      <td>Heartbreak ni ile ile | TRHK EP312 Pt 2</td>\n",
       "      <td>The Real Househelps of Kawangware follows the ...</td>\n",
       "      <td>10 months ago</td>\n",
       "      <td>12 minutes, 36 seconds</td>\n",
       "      <td>251,135 views</td>\n",
       "      <td>https://www.youtube.com/watch?v=nsJIaPvbspg</td>\n",
       "    </tr>\n",
       "    <tr>\n",
       "      <th>1</th>\n",
       "      <td>kn11JasWx28</td>\n",
       "      <td>https://i.ytimg.com/vi/kn11JasWx28/hqdefault.j...</td>\n",
       "      <td>Luma Mongaras wakwende uko NKT! | TRHK EP312 Pt 1</td>\n",
       "      <td>The Real Househelps of Kawangware follows the ...</td>\n",
       "      <td>10 months ago</td>\n",
       "      <td>11 minutes, 18 seconds</td>\n",
       "      <td>197,956 views</td>\n",
       "      <td>https://www.youtube.com/watch?v=kn11JasWx28</td>\n",
       "    </tr>\n",
       "    <tr>\n",
       "      <th>2</th>\n",
       "      <td>EqvW6AwLB5s</td>\n",
       "      <td>https://i.ytimg.com/vi/EqvW6AwLB5s/hqdefault.j...</td>\n",
       "      <td>Mapenzi Inawaramba! | TRHK EP312 Promo</td>\n",
       "      <td>The Real Househelps of Kawangware follows the ...</td>\n",
       "      <td>10 months ago</td>\n",
       "      <td>44 seconds</td>\n",
       "      <td>47,116 views</td>\n",
       "      <td>https://www.youtube.com/watch?v=EqvW6AwLB5s</td>\n",
       "    </tr>\n",
       "    <tr>\n",
       "      <th>3</th>\n",
       "      <td>xX_6THG8YR4</td>\n",
       "      <td>https://i.ytimg.com/vi/xX_6THG8YR4/hqdefault.j...</td>\n",
       "      <td>Ndanda ni wewe! | TRHK EP311 Pt 2</td>\n",
       "      <td>The Real Househelps of Kawangware follows the ...</td>\n",
       "      <td>10 months ago</td>\n",
       "      <td>11 minutes, 53 seconds</td>\n",
       "      <td>153,011 views</td>\n",
       "      <td>https://www.youtube.com/watch?v=xX_6THG8YR4</td>\n",
       "    </tr>\n",
       "    <tr>\n",
       "      <th>4</th>\n",
       "      <td>qZ2jpOiPQsQ</td>\n",
       "      <td>https://i.ytimg.com/vi/qZ2jpOiPQsQ/hqdefault.j...</td>\n",
       "      <td>He he he!!! Sema kuwithdraw pesa kwa choo | TR...</td>\n",
       "      <td>The Real Househelps of Kawangware follows the ...</td>\n",
       "      <td>10 months ago</td>\n",
       "      <td>12 minutes, 8 seconds</td>\n",
       "      <td>179,489 views</td>\n",
       "      <td>https://www.youtube.com/watch?v=qZ2jpOiPQsQ</td>\n",
       "    </tr>\n",
       "  </tbody>\n",
       "</table>\n",
       "</div>"
      ],
      "text/plain": [
       "       videoId                                          thumbnail  \\\n",
       "0  nsJIaPvbspg  https://i.ytimg.com/vi/nsJIaPvbspg/hqdefault.j...   \n",
       "1  kn11JasWx28  https://i.ytimg.com/vi/kn11JasWx28/hqdefault.j...   \n",
       "2  EqvW6AwLB5s  https://i.ytimg.com/vi/EqvW6AwLB5s/hqdefault.j...   \n",
       "3  xX_6THG8YR4  https://i.ytimg.com/vi/xX_6THG8YR4/hqdefault.j...   \n",
       "4  qZ2jpOiPQsQ  https://i.ytimg.com/vi/qZ2jpOiPQsQ/hqdefault.j...   \n",
       "\n",
       "                                               title  \\\n",
       "0            Heartbreak ni ile ile | TRHK EP312 Pt 2   \n",
       "1  Luma Mongaras wakwende uko NKT! | TRHK EP312 Pt 1   \n",
       "2             Mapenzi Inawaramba! | TRHK EP312 Promo   \n",
       "3                  Ndanda ni wewe! | TRHK EP311 Pt 2   \n",
       "4  He he he!!! Sema kuwithdraw pesa kwa choo | TR...   \n",
       "\n",
       "                                  descriptionSnippet publishedTimeText  \\\n",
       "0  The Real Househelps of Kawangware follows the ...     10 months ago   \n",
       "1  The Real Househelps of Kawangware follows the ...     10 months ago   \n",
       "2  The Real Househelps of Kawangware follows the ...     10 months ago   \n",
       "3  The Real Househelps of Kawangware follows the ...     10 months ago   \n",
       "4  The Real Househelps of Kawangware follows the ...     10 months ago   \n",
       "\n",
       "               lengthText  viewCountText  \\\n",
       "0  12 minutes, 36 seconds  251,135 views   \n",
       "1  11 minutes, 18 seconds  197,956 views   \n",
       "2              44 seconds   47,116 views   \n",
       "3  11 minutes, 53 seconds  153,011 views   \n",
       "4   12 minutes, 8 seconds  179,489 views   \n",
       "\n",
       "                                          Link  \n",
       "0  https://www.youtube.com/watch?v=nsJIaPvbspg  \n",
       "1  https://www.youtube.com/watch?v=kn11JasWx28  \n",
       "2  https://www.youtube.com/watch?v=EqvW6AwLB5s  \n",
       "3  https://www.youtube.com/watch?v=xX_6THG8YR4  \n",
       "4  https://www.youtube.com/watch?v=qZ2jpOiPQsQ  "
      ]
     },
     "execution_count": 18,
     "metadata": {},
     "output_type": "execute_result"
    }
   ],
   "source": [
    "df.head()"
   ]
  },
  {
   "cell_type": "code",
   "execution_count": 19,
   "metadata": {},
   "outputs": [
    {
     "data": {
      "text/html": [
       "<div>\n",
       "<style scoped>\n",
       "    .dataframe tbody tr th:only-of-type {\n",
       "        vertical-align: middle;\n",
       "    }\n",
       "\n",
       "    .dataframe tbody tr th {\n",
       "        vertical-align: top;\n",
       "    }\n",
       "\n",
       "    .dataframe thead th {\n",
       "        text-align: right;\n",
       "    }\n",
       "</style>\n",
       "<table border=\"1\" class=\"dataframe\">\n",
       "  <thead>\n",
       "    <tr style=\"text-align: right;\">\n",
       "      <th></th>\n",
       "      <th>videoId</th>\n",
       "      <th>thumbnail</th>\n",
       "      <th>title</th>\n",
       "      <th>descriptionSnippet</th>\n",
       "      <th>publishedTimeText</th>\n",
       "      <th>lengthText</th>\n",
       "      <th>viewCountText</th>\n",
       "      <th>Link</th>\n",
       "    </tr>\n",
       "  </thead>\n",
       "  <tbody>\n",
       "    <tr>\n",
       "      <th>0</th>\n",
       "      <td>nsJIaPvbspg</td>\n",
       "      <td>https://i.ytimg.com/vi/nsJIaPvbspg/hqdefault.j...</td>\n",
       "      <td>Heartbreak ni ile ile | TRHK EP312 Pt 2</td>\n",
       "      <td>The Real Househelps of Kawangware follows the ...</td>\n",
       "      <td>10 months ago</td>\n",
       "      <td>12 minutes, 36 seconds</td>\n",
       "      <td>251,135 views</td>\n",
       "      <td>https://www.youtube.com/watch?v=nsJIaPvbspg</td>\n",
       "    </tr>\n",
       "    <tr>\n",
       "      <th>1</th>\n",
       "      <td>kn11JasWx28</td>\n",
       "      <td>https://i.ytimg.com/vi/kn11JasWx28/hqdefault.j...</td>\n",
       "      <td>Luma Mongaras wakwende uko NKT! | TRHK EP312 Pt 1</td>\n",
       "      <td>The Real Househelps of Kawangware follows the ...</td>\n",
       "      <td>10 months ago</td>\n",
       "      <td>11 minutes, 18 seconds</td>\n",
       "      <td>197,956 views</td>\n",
       "      <td>https://www.youtube.com/watch?v=kn11JasWx28</td>\n",
       "    </tr>\n",
       "    <tr>\n",
       "      <th>2</th>\n",
       "      <td>EqvW6AwLB5s</td>\n",
       "      <td>https://i.ytimg.com/vi/EqvW6AwLB5s/hqdefault.j...</td>\n",
       "      <td>Mapenzi Inawaramba! | TRHK EP312 Promo</td>\n",
       "      <td>The Real Househelps of Kawangware follows the ...</td>\n",
       "      <td>10 months ago</td>\n",
       "      <td>44 seconds</td>\n",
       "      <td>47,116 views</td>\n",
       "      <td>https://www.youtube.com/watch?v=EqvW6AwLB5s</td>\n",
       "    </tr>\n",
       "    <tr>\n",
       "      <th>3</th>\n",
       "      <td>xX_6THG8YR4</td>\n",
       "      <td>https://i.ytimg.com/vi/xX_6THG8YR4/hqdefault.j...</td>\n",
       "      <td>Ndanda ni wewe! | TRHK EP311 Pt 2</td>\n",
       "      <td>The Real Househelps of Kawangware follows the ...</td>\n",
       "      <td>10 months ago</td>\n",
       "      <td>11 minutes, 53 seconds</td>\n",
       "      <td>153,011 views</td>\n",
       "      <td>https://www.youtube.com/watch?v=xX_6THG8YR4</td>\n",
       "    </tr>\n",
       "    <tr>\n",
       "      <th>4</th>\n",
       "      <td>qZ2jpOiPQsQ</td>\n",
       "      <td>https://i.ytimg.com/vi/qZ2jpOiPQsQ/hqdefault.j...</td>\n",
       "      <td>He he he!!! Sema kuwithdraw pesa kwa choo | TR...</td>\n",
       "      <td>The Real Househelps of Kawangware follows the ...</td>\n",
       "      <td>10 months ago</td>\n",
       "      <td>12 minutes, 8 seconds</td>\n",
       "      <td>179,489 views</td>\n",
       "      <td>https://www.youtube.com/watch?v=qZ2jpOiPQsQ</td>\n",
       "    </tr>\n",
       "  </tbody>\n",
       "</table>\n",
       "</div>"
      ],
      "text/plain": [
       "       videoId                                          thumbnail  \\\n",
       "0  nsJIaPvbspg  https://i.ytimg.com/vi/nsJIaPvbspg/hqdefault.j...   \n",
       "1  kn11JasWx28  https://i.ytimg.com/vi/kn11JasWx28/hqdefault.j...   \n",
       "2  EqvW6AwLB5s  https://i.ytimg.com/vi/EqvW6AwLB5s/hqdefault.j...   \n",
       "3  xX_6THG8YR4  https://i.ytimg.com/vi/xX_6THG8YR4/hqdefault.j...   \n",
       "4  qZ2jpOiPQsQ  https://i.ytimg.com/vi/qZ2jpOiPQsQ/hqdefault.j...   \n",
       "\n",
       "                                               title  \\\n",
       "0            Heartbreak ni ile ile | TRHK EP312 Pt 2   \n",
       "1  Luma Mongaras wakwende uko NKT! | TRHK EP312 Pt 1   \n",
       "2             Mapenzi Inawaramba! | TRHK EP312 Promo   \n",
       "3                  Ndanda ni wewe! | TRHK EP311 Pt 2   \n",
       "4  He he he!!! Sema kuwithdraw pesa kwa choo | TR...   \n",
       "\n",
       "                                  descriptionSnippet publishedTimeText  \\\n",
       "0  The Real Househelps of Kawangware follows the ...     10 months ago   \n",
       "1  The Real Househelps of Kawangware follows the ...     10 months ago   \n",
       "2  The Real Househelps of Kawangware follows the ...     10 months ago   \n",
       "3  The Real Househelps of Kawangware follows the ...     10 months ago   \n",
       "4  The Real Househelps of Kawangware follows the ...     10 months ago   \n",
       "\n",
       "               lengthText  viewCountText  \\\n",
       "0  12 minutes, 36 seconds  251,135 views   \n",
       "1  11 minutes, 18 seconds  197,956 views   \n",
       "2              44 seconds   47,116 views   \n",
       "3  11 minutes, 53 seconds  153,011 views   \n",
       "4   12 minutes, 8 seconds  179,489 views   \n",
       "\n",
       "                                          Link  \n",
       "0  https://www.youtube.com/watch?v=nsJIaPvbspg  \n",
       "1  https://www.youtube.com/watch?v=kn11JasWx28  \n",
       "2  https://www.youtube.com/watch?v=EqvW6AwLB5s  \n",
       "3  https://www.youtube.com/watch?v=xX_6THG8YR4  \n",
       "4  https://www.youtube.com/watch?v=qZ2jpOiPQsQ  "
      ]
     },
     "execution_count": 19,
     "metadata": {},
     "output_type": "execute_result"
    }
   ],
   "source": [
    "# reorder our dataframe from the first episode to the last\n",
    "df.sort_index(ascending=False)\n",
    "df.head()\n"
   ]
  },
  {
   "cell_type": "markdown",
   "metadata": {},
   "source": [
    "save the cleaned data "
   ]
  },
  {
   "cell_type": "code",
   "execution_count": 20,
   "metadata": {},
   "outputs": [],
   "source": [
    "df.to_csv(\"data/cleaned_data.csv\")"
   ]
  },
  {
   "cell_type": "markdown",
   "metadata": {},
   "source": [
    "#### woohoo! We've Successfully Scraped \"The Real House Helps of Kawagware\" YouTube Channel!\n",
    "\n",
    "🎉📺🎉\n",
    "\n",
    "We've reached the end of our exhilarating journey through the digital realm of \"The Real House Helps of Kawagware\"! Armed with our Python skills and the powerful ScrapeTube library, we've successfully scraped a treasure trove of data from the show's YouTube channel.\n",
    "\n",
    "But this is just the beginning! With our newfound dataset in hand, the possibilities are endless. Whether we're analyzing viewer engagement, uncovering trends, or simply indulging in some binge-watching, the insights we've gathered will surely add depth and excitement to our fandom.\n",
    "\n",
    "As we close this notebook, let's take a moment to appreciate the thrill of discovery and the satisfaction of a job well done. We've mastered the art of data scraping, and \"The Real House Helps of Kawagware\" is just the beginning of our data-driven adventures.\n",
    "\n",
    "So, what's next? Perhaps another YouTube channel to explore, or maybe a deep dive into data visualization and analysis? The choice is ours, and the world of data awaits!\n",
    "\n",
    "Until next time, let's keep scraping, keep exploring, and keep embracing the thrill of discovery. And remember, the real drama isn't just on screen – it's in the data!\n",
    "\n",
    "Lights out, camera off, but the adventure continues... 🚀✨"
   ]
  }
 ],
 "metadata": {
  "kernelspec": {
   "display_name": "yu_tube",
   "language": "python",
   "name": "python3"
  },
  "language_info": {
   "codemirror_mode": {
    "name": "ipython",
    "version": 3
   },
   "file_extension": ".py",
   "mimetype": "text/x-python",
   "name": "python",
   "nbconvert_exporter": "python",
   "pygments_lexer": "ipython3",
   "version": "3.10.9"
  }
 },
 "nbformat": 4,
 "nbformat_minor": 2
}

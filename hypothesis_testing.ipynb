{
  "cells": [
    {
      "cell_type": "markdown",
      "metadata": {
        "id": "view-in-github",
        "colab_type": "text"
      },
      "source": [
        "<a href=\"https://colab.research.google.com/github/engige/THRK_scraper/blob/main/hypothesis_testing.ipynb\" target=\"_parent\"><img src=\"https://colab.research.google.com/assets/colab-badge.svg\" alt=\"Open In Colab\"/></a>"
      ]
    },
    {
      "cell_type": "markdown",
      "metadata": {
        "toc": true,
        "id": "eslwFxIxN_ez"
      },
      "source": [
        "<h1>Table of Contents<span class=\"tocSkip\"></span></h1>\n",
        "<div class=\"toc\"><ul class=\"toc-item\"><li><span><a href=\"#Objectives\" data-toc-modified-id=\"Objectives-1\"><span class=\"toc-item-num\">1&nbsp;&nbsp;</span>Objectives</a></span></li><li><span><a href=\"#We-All-Make-Mistakes\" data-toc-modified-id=\"We-All-Make-Mistakes-2\"><span class=\"toc-item-num\">2&nbsp;&nbsp;</span>We All Make Mistakes</a></span><ul class=\"toc-item\"><li><span><a href=\"#Getting-it-Right-vs-Getting-it-Wrong\" data-toc-modified-id=\"Getting-it-Right-vs-Getting-it-Wrong-2.1\"><span class=\"toc-item-num\">2.1&nbsp;&nbsp;</span>Getting it Right vs Getting it Wrong</a></span></li><li><span><a href=\"#False-Positives---Type-1-Errors\" data-toc-modified-id=\"False-Positives---Type-1-Errors-2.2\"><span class=\"toc-item-num\">2.2&nbsp;&nbsp;</span>False Positives - Type 1 Errors</a></span></li><li><span><a href=\"#False-Negatives---Type-2-Errors\" data-toc-modified-id=\"False-Negatives---Type-2-Errors-2.3\"><span class=\"toc-item-num\">2.3&nbsp;&nbsp;</span>False Negatives - Type 2 Errors</a></span></li><li><span><a href=\"#Visualizing-The-Errors\" data-toc-modified-id=\"Visualizing-The-Errors-2.4\"><span class=\"toc-item-num\">2.4&nbsp;&nbsp;</span>Visualizing The Errors</a></span></li></ul></li><li><span><a href=\"#When-Things-Aren't-Normal:-$t$-Tests\" data-toc-modified-id=\"When-Things-Aren't-Normal:-$t$-Tests-3\"><span class=\"toc-item-num\">3&nbsp;&nbsp;</span>When Things Aren't Normal: $t$-Tests</a></span><ul class=\"toc-item\"><li><span><a href=\"#$z$-tests-vs-$t$-tests\" data-toc-modified-id=\"$z$-tests-vs-$t$-tests-3.1\"><span class=\"toc-item-num\">3.1&nbsp;&nbsp;</span>$z$-tests vs $t$-tests</a></span></li><li><span><a href=\"#Compare-and-contrast-$z$-tests-and-$t$-tests.\" data-toc-modified-id=\"Compare-and-contrast-$z$-tests-and-$t$-tests.-3.2\"><span class=\"toc-item-num\">3.2&nbsp;&nbsp;</span>Compare and contrast $z$-tests and $t$-tests.</a></span></li><li><span><a href=\"#Performing-a-$t$-Test\" data-toc-modified-id=\"Performing-a-$t$-Test-3.3\"><span class=\"toc-item-num\">3.3&nbsp;&nbsp;</span>Performing a $t$-Test</a></span><ul class=\"toc-item\"><li><span><a href=\"#An-Alternative-Method-in-Making-a-Decision\" data-toc-modified-id=\"An-Alternative-Method-in-Making-a-Decision-3.3.1\"><span class=\"toc-item-num\">3.3.1&nbsp;&nbsp;</span>An Alternative Method in Making a Decision</a></span></li></ul></li></ul></li><li><span><a href=\"#Exercises\" data-toc-modified-id=\"Exercises-4\"><span class=\"toc-item-num\">4&nbsp;&nbsp;</span>Exercises</a></span><ul class=\"toc-item\"><li><span><a href=\"#Gotta-Have-My-Coffee!-☕️\" data-toc-modified-id=\"Gotta-Have-My-Coffee!-☕️-4.1\"><span class=\"toc-item-num\">4.1&nbsp;&nbsp;</span>Gotta Have My Coffee! ☕️</a></span></li><li><span><a href=\"#Gotta-Have-My-Pants!-👖\" data-toc-modified-id=\"Gotta-Have-My-Pants!-👖-4.2\"><span class=\"toc-item-num\">4.2&nbsp;&nbsp;</span>Gotta Have My Pants! 👖</a></span></li><li><span><a href=\"#Gotta-Have-My-Food-Delivered!-🚚\" data-toc-modified-id=\"Gotta-Have-My-Food-Delivered!-🚚-4.3\"><span class=\"toc-item-num\">4.3&nbsp;&nbsp;</span>Gotta Have My Food Delivered! 🚚</a></span></li></ul></li><li><span><a href=\"#Level-Up:-More-practice-problems!\" data-toc-modified-id=\"Level-Up:-More-practice-problems!-5\"><span class=\"toc-item-num\">5&nbsp;&nbsp;</span>Level Up: More practice problems!</a></span></li><li><span><a href=\"#Level-Up:--Two-sample-$t$-tests\" data-toc-modified-id=\"Level-Up:--Two-sample-$t$-tests-6\"><span class=\"toc-item-num\">6&nbsp;&nbsp;</span>Level Up:  Two sample $t$-tests</a></span></li></ul></div>"
      ]
    },
    {
      "cell_type": "code",
      "execution_count": null,
      "metadata": {
        "id": "bORhxACnN_fG"
      },
      "outputs": [],
      "source": [
        "from scipy import stats\n",
        "import numpy as np\n",
        "import seaborn as sns\n",
        "import matplotlib.pyplot as plt\n",
        "import pandas as pd"
      ]
    },
    {
      "cell_type": "markdown",
      "metadata": {
        "heading_collapsed": true,
        "id": "oKh7AziSN_fL"
      },
      "source": [
        "# Objectives"
      ]
    },
    {
      "cell_type": "markdown",
      "metadata": {
        "hidden": true,
        "id": "vZFqHmmJN_fN"
      },
      "source": [
        "- Understand how type 1 & type 2 errors can be made in hypothesis tests\n",
        "- Perform a Student's t-test and interpret the results"
      ]
    },
    {
      "cell_type": "markdown",
      "metadata": {
        "heading_collapsed": true,
        "id": "RXZemo7rN_fP"
      },
      "source": [
        "# We All Make Mistakes"
      ]
    },
    {
      "cell_type": "markdown",
      "metadata": {
        "hidden": true,
        "id": "CDmDR526N_fR"
      },
      "source": [
        "Statistics is a field of imperfect knowledge: we don't know the **_truth_**, we use what we know.\n",
        "\n",
        "We make mistakes ¯\\\\\\_(ツ)\\_/¯ <!--markdown shrug-->"
      ]
    },
    {
      "cell_type": "markdown",
      "metadata": {
        "hidden": true,
        "id": "GxyHB3uxN_fS"
      },
      "source": [
        "But it's important to know what _kind of mistakes_ we're making in our process and recognize how _frequently_ we might make those mistakes."
      ]
    },
    {
      "cell_type": "markdown",
      "metadata": {
        "heading_collapsed": true,
        "hidden": true,
        "id": "asfKRr86N_fU"
      },
      "source": [
        "## Getting it Right vs Getting it Wrong"
      ]
    },
    {
      "cell_type": "markdown",
      "metadata": {
        "hidden": true,
        "id": "oQNMnoBYN_fV"
      },
      "source": [
        "It would help if we go over some terminology to help us discuss this types of errors."
      ]
    },
    {
      "cell_type": "markdown",
      "metadata": {
        "hidden": true,
        "id": "F6v3CvNEN_fW"
      },
      "source": [
        "----------------------------------------"
      ]
    },
    {
      "cell_type": "markdown",
      "metadata": {
        "hidden": true,
        "id": "HUnyT-GlN_fd"
      },
      "source": [
        "When we get it **right** we have **true positives** & **true negatives**. These correspond with _rejecting the null hypothesis_ and _failing to reject the null hypothesis_.\n",
        "\n",
        "In either situation, it means our conclusion agrees with the \"truth\"."
      ]
    },
    {
      "cell_type": "markdown",
      "metadata": {
        "hidden": true,
        "id": "wnL6_qgSN_fe"
      },
      "source": [
        "----------------------------------------"
      ]
    },
    {
      "cell_type": "markdown",
      "metadata": {
        "hidden": true,
        "id": "UqVwmerDN_ff"
      },
      "source": [
        "When we get it **wrong** we either have a **false positive** or a **false negative**. These are the errors we care about."
      ]
    },
    {
      "cell_type": "markdown",
      "metadata": {
        "heading_collapsed": true,
        "hidden": true,
        "id": "x4an-ICmN_fg"
      },
      "source": [
        "## False Positives - Type 1 Errors"
      ]
    },
    {
      "cell_type": "markdown",
      "metadata": {
        "hidden": true,
        "id": "NqG-2nRpN_fg"
      },
      "source": [
        "**False positives** are **type 1 errors** and occur when we _reject the null hypothesis_ (favoring the alternative hypothesis) but the \"truth\" is that we should have _failed to reject_ (favoring the null hypothesis)."
      ]
    },
    {
      "cell_type": "markdown",
      "metadata": {
        "hidden": true,
        "id": "TBIJvBeRN_fh"
      },
      "source": [
        "We can get these errors by random chance and are associated with _finding an effect_ when one doesn't exist. We can expect this to happen if we perform many tests where there is no effect."
      ]
    },
    {
      "cell_type": "markdown",
      "metadata": {
        "hidden": true,
        "id": "jnWFcaTyN_fh"
      },
      "source": [
        "<img src='https://imgs.xkcd.com/comics/significant.png' width=400px/>"
      ]
    },
    {
      "cell_type": "markdown",
      "metadata": {
        "hidden": true,
        "id": "r0t07ps0N_fi"
      },
      "source": [
        "So what's a decent tolerance of error? Usually at rate between $1\\%$ and $5\\%$ but it depends on the specific experiment."
      ]
    },
    {
      "cell_type": "markdown",
      "metadata": {
        "hidden": true,
        "id": "jV5uTFZON_fi"
      },
      "source": [
        "We actually define our tolerance with something we're already familiar with, the significance level $\\alpha$"
      ]
    },
    {
      "cell_type": "markdown",
      "metadata": {
        "heading_collapsed": true,
        "hidden": true,
        "id": "3bC3kaY8N_fi"
      },
      "source": [
        "## False Negatives - Type 2 Errors"
      ]
    },
    {
      "cell_type": "markdown",
      "metadata": {
        "hidden": true,
        "id": "Utw-AEY1N_fj"
      },
      "source": [
        "**False negatives** are **type 2 errors** and occur when we _fail to reject the null hypothesis_ (favoring the null hypothesis) but the \"truth\" is that we should have _rejected the hypothesis_ (favoring the alternative hypothesis)."
      ]
    },
    {
      "cell_type": "markdown",
      "metadata": {
        "hidden": true,
        "id": "kPyID0_jN_fk"
      },
      "source": [
        "This can happen again randomly but usually a symptom of not having a \"good enough\" experiment to notice an effect. We're likely to fail to reject $H_0$ if we don't have enough samples and/or the effect is relatively small."
      ]
    },
    {
      "cell_type": "markdown",
      "metadata": {
        "hidden": true,
        "id": "uN6TKF7dN_fl"
      },
      "source": [
        "This error can be denoted with $\\beta$ but typically it's talked about in terms of **statistical power** ($1-\\beta$) which we'll see later. Note that we want $\\beta$ to be small, but statistical power to be high (they're complements of another)"
      ]
    },
    {
      "cell_type": "markdown",
      "metadata": {
        "hidden": true,
        "id": "rI2RBDv_N_fm"
      },
      "source": [
        "Generally, we want our false negative rate $\\beta$ to be about $20\\%$ but again it depends on the application."
      ]
    },
    {
      "cell_type": "markdown",
      "metadata": {
        "heading_collapsed": true,
        "hidden": true,
        "id": "489Hifd9N_fm"
      },
      "source": [
        "## Visualizing The Errors"
      ]
    },
    {
      "cell_type": "markdown",
      "metadata": {
        "hidden": true,
        "id": "k0ErtNUrN_fn"
      },
      "source": [
        "We can think of a hypothesis test as comparing two normal distributions (or $t$-distributions or whichever test we're doing).\n",
        "\n",
        "There's the sample's distribution and the comparison's distribution given by the null hypothesis (which is the population in a one-sample test)."
      ]
    },
    {
      "cell_type": "code",
      "execution_count": null,
      "metadata": {
        "hidden": true,
        "id": "NaGhxg0NN_fn",
        "outputId": "4f140c61-f8fd-40ad-d94d-ac549ef0fa65"
      },
      "outputs": [
        {
          "data": {
            "image/png": "[encoded data removed]",
            "text/plain": [
              "<Figure size 432x288 with 1 Axes>"
            ]
          },
          "metadata": {
            "needs_background": "light"
          },
          "output_type": "display_data"
        }
      ],
      "source": [
        "# Visulization of two samples being compared with one another\n",
        "fig, ax = plt.subplots()\n",
        "\n",
        "y = np.linspace(stats.norm(0, 1).ppf(0.001),\n",
        "             stats.norm(0, 1).ppf(0.999), 100)\n",
        "\n",
        "alpha = stats.norm(0, 1).ppf(0.95)\n",
        "\n",
        "\n",
        "ax.plot(y, stats.norm(0, 1).pdf(y), 'r-', lw=5, alpha=0.6, label='Type I Error')\n",
        "ax.axvline(alpha)\n",
        "\n",
        "px = np.arange(stats.norm(0, 1).ppf(0.95), stats.norm(0, 1).ppf(0.999), 0.001)\n",
        "ax.fill_between(px, stats.norm(0, 1).pdf(px), color = 'pink')\n",
        "\n",
        "\n",
        "\n",
        "x = np.linspace(stats.norm(3, 1).ppf(0.001),\n",
        "             stats.norm(3, 1).ppf(0.999), 100)\n",
        "\n",
        "ax.plot(x, stats.norm(3, 1).pdf(x), 'b-', lw=5, alpha=0.6, label='Type II Error')\n",
        "\n",
        "\n",
        "px = np.arange(stats.norm(0, 1).ppf(0.5),stats.norm(0, 1).ppf(0.95), 0.001)\n",
        "ax.fill_between(px, stats.norm(3, 1).pdf(px), color='blue')\n",
        "ax.legend(loc='upper right')\n",
        "\n",
        "ax.set_title('Type I and Type II Errors')\n",
        "ax.text(1.35, 0.25, 'Alpha: .05', rotation=90)\n",
        "\n",
        "plt.tight_layout()"
      ]
    },
    {
      "cell_type": "markdown",
      "metadata": {
        "hidden": true,
        "id": "plVawUxHN_fu"
      },
      "source": [
        "We can visualize these two distributions as where we might expect our sample mean to be measured at.\n",
        "\n",
        "Sometimes we might measure an extreme value in our first sample which will mean be interpreted as a small p-value (too weird to be part of the comparison distribution) resulting into a _type 1 error_."
      ]
    },
    {
      "cell_type": "markdown",
      "metadata": {
        "heading_collapsed": true,
        "id": "aF0xVN4jN_fv"
      },
      "source": [
        "# When Things Aren't Normal: $t$-Tests"
      ]
    },
    {
      "cell_type": "markdown",
      "metadata": {
        "heading_collapsed": true,
        "hidden": true,
        "id": "UQYpUUN2N_fv"
      },
      "source": [
        "## $z$-tests vs $t$-tests"
      ]
    },
    {
      "cell_type": "markdown",
      "metadata": {
        "hidden": true,
        "id": "eKMkOEpdN_fw"
      },
      "source": [
        "According to the **Central Limit Theorem**, the sampling distribution of a statistic, like the sample mean, will follow a normal distribution _as long as the sample size is sufficiently large_."
      ]
    },
    {
      "cell_type": "markdown",
      "metadata": {
        "hidden": true,
        "id": "ZMDA011WN_fw"
      },
      "source": [
        "But if we have a small sample size or don't know the population standard deviation, we have to make a _correction_ to  the normal distribution. This is what the $t$-test effectively does for us by using a $t$-distribution over the normal distribution."
      ]
    },
    {
      "cell_type": "markdown",
      "metadata": {
        "hidden": true,
        "id": "dfK5WzGxN_fy"
      },
      "source": [
        "The $t$-distribution changes based on the degrees of freedom (number of data point in the sample). As the number of points increase, we approach the normal distribution."
      ]
    },
    {
      "cell_type": "markdown",
      "metadata": {
        "hidden": true,
        "id": "jPOXZg5QN_fz"
      },
      "source": [
        "![z_or_t_test.png](attachment:z_or_t_test.png)"
      ]
    },
    {
      "cell_type": "markdown",
      "metadata": {
        "hidden": true,
        "id": "El0wRByaN_fz"
      },
      "source": [
        "**So what's the difference?** → A $t$-test is like a modified $z$-test."
      ]
    },
    {
      "cell_type": "markdown",
      "metadata": {
        "hidden": true,
        "id": "oP6M_qAKN_fz"
      },
      "source": [
        "> **$t$-test**:\n",
        ">\n",
        "> - Calculate the **$t$-statistic** using the sample's standard deviation $s$:\n",
        "> $$\\large t = \\frac{\\bar{x}-\\mu}{\\frac{s}{\\sqrt{n}}}$$\n",
        "> - We calculate the p-value from the **$t$-distribution**"
      ]
    },
    {
      "cell_type": "markdown",
      "metadata": {
        "hidden": true,
        "id": "14bk8dkrN_f0"
      },
      "source": [
        "> **$z$-test**:\n",
        ">\n",
        "> - Calculate the **$z$-statistic** using the populations standard deviation $\\sigma$:\n",
        "> $$\\large z = \\frac{\\bar{x}-\\mu}{\\frac{\\sigma}{\\sqrt{n}}}$$\n",
        "> - We calculate the p-value from the **normal distribution**"
      ]
    },
    {
      "cell_type": "markdown",
      "metadata": {
        "hidden": true,
        "id": "9KJfa2yhN_f0"
      },
      "source": [
        "\n",
        "<img src=\"img/img5.png\" width=\"500\">"
      ]
    },
    {
      "cell_type": "markdown",
      "metadata": {
        "id": "-_KIFlOLN_f1"
      },
      "source": []
    },
    {
      "cell_type": "markdown",
      "metadata": {
        "heading_collapsed": true,
        "hidden": true,
        "id": "SMsJyp05N_gC"
      },
      "source": [
        "## Compare and contrast $z$-tests and $t$-tests."
      ]
    },
    {
      "cell_type": "markdown",
      "metadata": {
        "hidden": true,
        "id": "4c9GZdXPN_gC"
      },
      "source": [
        "In both cases, it is assumed that the samples are normally distributed.\n",
        "\n",
        "$t$-distributions have more probability in the tails. As the sample size increases, this decreases and the t distribution more closely resembles the $z$, or standard normal, distribution. By sample size $n = 1000$ they are virtually indistinguishable from each other.\n",
        "\n",
        "As the degrees of freedom go up, the $t$-distribution gets closer to the normal curve.\n",
        "\n",
        "After calculating our $t$-stat, we compare it against our $t$-critical value determined by our preditermined alpha and the degrees of freedom.\n",
        "\n",
        "Degrees of freedom = n - 1"
      ]
    },
    {
      "cell_type": "code",
      "execution_count": null,
      "metadata": {
        "hidden": true,
        "scrolled": true,
        "id": "Fm-E4kETN_gD"
      },
      "outputs": [],
      "source": [
        "help(stats.ttest_1samp)"
      ]
    },
    {
      "cell_type": "markdown",
      "metadata": {
        "id": "tQuxW-GtN_gE"
      },
      "source": []
    },
    {
      "cell_type": "markdown",
      "metadata": {
        "heading_collapsed": true,
        "hidden": true,
        "id": "IxIh83NuN_gF"
      },
      "source": [
        "## Performing a $t$-Test"
      ]
    },
    {
      "cell_type": "markdown",
      "metadata": {
        "hidden": true,
        "id": "a9MXf4MtN_gF"
      },
      "source": [
        "> **Scenario**\n",
        ">\n",
        "> - We are told that African elephants have weights distributed normally around a mean of $9000$ lbs.\n",
        "> - Pachyderm Adventures has recently measured the weights of $20$ African elephants in Gabon  \n",
        "> - This group of Gabonese elephants were measured to have an average weight at $8562$ lbs.\n",
        ">\n",
        "> The claim is that these Gabonese elephants are significantly different. Let's find out!"
      ]
    },
    {
      "cell_type": "markdown",
      "metadata": {
        "hidden": true,
        "id": "YiUucyBxN_gG"
      },
      "source": [
        "Because the sample size is small, we need to use a one sample $t$-test."
      ]
    },
    {
      "cell_type": "markdown",
      "metadata": {
        "hidden": true,
        "id": "z0L-2V3qN_gH"
      },
      "source": [
        "\n",
        "\n",
        "$H_0$: _There is no difference between the Gabonese elephants and the African elephants population_\n",
        "\n",
        "$H_1$: _There is a difference between the Gabonese elephants and the African elephants population_\n",
        "\n",
        "Let's define our $\\alpha$ to be $0.05$"
      ]
    },
    {
      "cell_type": "code",
      "execution_count": null,
      "metadata": {
        "hidden": true,
        "id": "GPhNPUQ7N_gH"
      },
      "outputs": [],
      "source": [
        "# We're given these values from the sample\n",
        "gab = np.array([\n",
        "        8234, 8929, 7922, 8688, 8840,\n",
        "        8759, 8127, 8574, 8533, 8944,\n",
        "        8631, 8665, 8712, 8984, 8601,\n",
        "        8559, 8228, 8474, 8708, 8128\n",
        "])"
      ]
    },
    {
      "cell_type": "code",
      "execution_count": null,
      "metadata": {
        "hidden": true,
        "id": "s1erUceuN_gI",
        "outputId": "ff59fb1e-338d-487b-b085-cbded1bf2056"
      },
      "outputs": [
        {
          "name": "stdout",
          "output_type": "stream",
          "text": [
            "Sample mean: 8562.0\n",
            "Sample std: 288.7\n"
          ]
        }
      ],
      "source": [
        "print(f'Sample mean: {np.mean(gab):.1f}')\n",
        "print(f'Sample std: {np.std(gab):.1f}')"
      ]
    },
    {
      "cell_type": "code",
      "execution_count": null,
      "metadata": {
        "hidden": true,
        "id": "cM1QJew2N_gJ",
        "outputId": "5551d77d-7698-4a96-88a7-721d626bf4e8"
      },
      "outputs": [
        {
          "data": {
            "text/plain": [
              "Ttest_1sampResult(statistic=-6.614120615780001, pvalue=2.498214901380137e-06)"
            ]
          },
          "execution_count": 6,
          "metadata": {},
          "output_type": "execute_result"
        }
      ],
      "source": [
        "# Using Python to perform test\n",
        "result = stats.ttest_1samp(gab, 9000)\n",
        "t_stat, p_value = result\n",
        "result"
      ]
    },
    {
      "cell_type": "markdown",
      "metadata": {
        "hidden": true,
        "id": "wPFlJojgN_gL"
      },
      "source": [
        "So, yes, we can very confidently reject our null hypothesis since the p-value is smaller than our $\\alpha$."
      ]
    },
    {
      "cell_type": "markdown",
      "metadata": {
        "id": "QONhHML5N_gL"
      },
      "source": [
        "## One-Sample t-Test\n",
        "*Purpose* : Compares the mean of a single sample to a known value (often the population mean).\n",
        "\n",
        "*Example* : Testing if the average height of a group of students is different from the national average height."
      ]
    },
    {
      "cell_type": "markdown",
      "metadata": {
        "id": "t1E5H9ihN_gN"
      },
      "source": [
        "**Hypothesis:**\n",
        "\n",
        "**Null Hypothesis (H0):** The mean of the sample is equal to the known population mean.\n",
        "\n",
        "**Alternative Hypothesis (H1):** The mean of the sample is not equal to the known population mean.\n",
        "\n",
        "\n",
        "\n",
        "Example Hypotheses:\n",
        "\n",
        "**H0:** The average of the sample data is 3.0.\n",
        "\n",
        "**H1:** The average of the sample data is not 3.0.\n",
        "\n",
        "**Can alternatively be stated this way:**\n",
        "\n",
        "**H0: μ = μ0** (Sample mean is equal to the population mean)\n",
        "\n",
        "**H1: μ ≠ μ0** (Sample mean is not equal to the population mean)"
      ]
    },
    {
      "cell_type": "code",
      "execution_count": null,
      "metadata": {
        "id": "VzYVTDIqN_gP",
        "outputId": "cfd2b996-11fd-4e66-e66c-707305159b7d"
      },
      "outputs": [
        {
          "name": "stdout",
          "output_type": "stream",
          "text": [
            "One-Sample t-Test:\n",
            "T-Statistic: -0.3251566887620442, P-Value: 0.756101593888254\n"
          ]
        }
      ],
      "source": [
        "# This example compares the mean of a sample to a known value (e.g., population mean).\n",
        "\n",
        "import numpy as np\n",
        "from scipy import stats\n",
        "\n",
        "# Sample data\n",
        "data = [2.3, 3.1, 2.8, 3.7, 2.5, 3.0, 3.2]\n",
        "\n",
        "# Known population mean\n",
        "population_mean = 3.0\n",
        "\n",
        "# Perform one-sample t-test\n",
        "t_statistic, p_value = stats.ttest_1samp(data, population_mean)\n",
        "\n",
        "print(f\"One-Sample t-Test:\\nT-Statistic: {t_statistic}, P-Value: {p_value}\")\n"
      ]
    },
    {
      "cell_type": "markdown",
      "metadata": {
        "id": "R2YDhMRGN_gQ"
      },
      "source": [
        "**NB:** The **scipy.stats.ttest_1samp** function is used for the one-sample t-test\n"
      ]
    },
    {
      "cell_type": "markdown",
      "metadata": {
        "id": "_7ZqvgURN_gR"
      },
      "source": []
    },
    {
      "cell_type": "markdown",
      "metadata": {
        "id": "Od05dmm5N_gR"
      },
      "source": [
        "## **Two-Sample t-Test**\n",
        "Types:\n",
        "\n",
        "- **Independent t-Test (Two-Sample t-Test):** Used when the two groups are independent of each other (e.g., comparing the test scores of two different classes).\n",
        "\n",
        "- **Dependent t-Test (Paired t-Test):** Used when the two groups are related or paired in some way (e.g., comparing the test scores of students before and after a training program)."
      ]
    },
    {
      "cell_type": "markdown",
      "metadata": {
        "id": "OuZMZuwAN_gT"
      },
      "source": [
        "### 1. Dependent (Paired) t-Test\n",
        "\n",
        "**Purpose:** Compares the means of two related groups. This could involve the same group of individuals measured at two different times or under two different conditions.\n",
        "\n",
        "**Example:** Comparing the weights of individuals before and after a diet program."
      ]
    },
    {
      "cell_type": "markdown",
      "metadata": {
        "id": "PylZk4zeN_gU"
      },
      "source": [
        "**Hypothesis:**\n",
        "\n",
        "**Null Hypothesis (H0):** The mean difference between the paired observations is zero.\n",
        "\n",
        "**Alternative Hypothesis (H1):** The mean difference between the paired observations is not zero.\n",
        "\n",
        "\n",
        "**Example Hypotheses:**\n",
        "\n",
        "**H0:** The mean difference between before treatment and after treatment is zero.\n",
        "\n",
        "**H1:** The mean difference between before treatment and after treatment is not zero.\n",
        "\n",
        "\n",
        "**alt**\n",
        "\n",
        "**H0: μd = 0**  (Mean difference between paired observations is zero)\n",
        "\n",
        "**H1: μd ≠ 0**  (Mean difference between paired observations is not zero)"
      ]
    },
    {
      "cell_type": "code",
      "execution_count": null,
      "metadata": {
        "id": "4DDGE2s-N_gV",
        "outputId": "f8969734-011e-4370-a323-dbdca69b5814"
      },
      "outputs": [
        {
          "name": "stdout",
          "output_type": "stream",
          "text": [
            "Dependent (Paired) t-Test:\n",
            "T-Statistic: -2437650117271969.5, P-Value: 3.217181415657009e-91\n"
          ]
        }
      ],
      "source": [
        "# This example compares the means of two related samples (e.g., before and after treatment in the same group).\n",
        "\n",
        "# Sample data for paired observations\n",
        "before_treatment = [2.8, 3.0, 2.9, 3.1, 3.2, 2.8, 3.0]\n",
        "after_treatment = [3.0, 3.2, 3.1, 3.3, 3.4, 3.0, 3.2]\n",
        "\n",
        "# Perform paired t-test\n",
        "t_statistic, p_value = stats.ttest_rel(before_treatment, after_treatment)\n",
        "\n",
        "print(f\"Dependent (Paired) t-Test:\\nT-Statistic: {t_statistic}, P-Value: {p_value}\")\n"
      ]
    },
    {
      "cell_type": "code",
      "execution_count": null,
      "metadata": {
        "id": "b61Xj_1ON_gW",
        "outputId": "a3a6fd9e-f8fe-4a8e-e45d-2507989c29d5"
      },
      "outputs": [
        {
          "data": {
            "text/html": [
              "<div>\n",
              "<style scoped>\n",
              "    .dataframe tbody tr th:only-of-type {\n",
              "        vertical-align: middle;\n",
              "    }\n",
              "\n",
              "    .dataframe tbody tr th {\n",
              "        vertical-align: top;\n",
              "    }\n",
              "\n",
              "    .dataframe thead th {\n",
              "        text-align: right;\n",
              "    }\n",
              "</style>\n",
              "<table border=\"1\" class=\"dataframe\">\n",
              "  <thead>\n",
              "    <tr style=\"text-align: right;\">\n",
              "      <th></th>\n",
              "      <th>patient</th>\n",
              "      <th>sex</th>\n",
              "      <th>agegrp</th>\n",
              "      <th>bp_before</th>\n",
              "      <th>bp_after</th>\n",
              "    </tr>\n",
              "  </thead>\n",
              "  <tbody>\n",
              "    <tr>\n",
              "      <th>0</th>\n",
              "      <td>1</td>\n",
              "      <td>Male</td>\n",
              "      <td>30-45</td>\n",
              "      <td>143</td>\n",
              "      <td>153</td>\n",
              "    </tr>\n",
              "    <tr>\n",
              "      <th>1</th>\n",
              "      <td>2</td>\n",
              "      <td>Male</td>\n",
              "      <td>30-45</td>\n",
              "      <td>163</td>\n",
              "      <td>170</td>\n",
              "    </tr>\n",
              "    <tr>\n",
              "      <th>2</th>\n",
              "      <td>3</td>\n",
              "      <td>Male</td>\n",
              "      <td>30-45</td>\n",
              "      <td>153</td>\n",
              "      <td>168</td>\n",
              "    </tr>\n",
              "    <tr>\n",
              "      <th>3</th>\n",
              "      <td>4</td>\n",
              "      <td>Male</td>\n",
              "      <td>30-45</td>\n",
              "      <td>153</td>\n",
              "      <td>142</td>\n",
              "    </tr>\n",
              "    <tr>\n",
              "      <th>4</th>\n",
              "      <td>5</td>\n",
              "      <td>Male</td>\n",
              "      <td>30-45</td>\n",
              "      <td>146</td>\n",
              "      <td>141</td>\n",
              "    </tr>\n",
              "  </tbody>\n",
              "</table>\n",
              "</div>"
            ],
            "text/plain": [
              "   patient   sex agegrp  bp_before  bp_after\n",
              "0        1  Male  30-45        143       153\n",
              "1        2  Male  30-45        163       170\n",
              "2        3  Male  30-45        153       168\n",
              "3        4  Male  30-45        153       142\n",
              "4        5  Male  30-45        146       141"
            ]
          },
          "execution_count": 37,
          "metadata": {},
          "output_type": "execute_result"
        }
      ],
      "source": [
        "# Example 3: Dependent T-test\n",
        "# ---\n",
        "# The paired sample t-test is also called dependent sample t-test.\n",
        "# It’s an univariate test that tests for a significant difference between 2 related variables.\n",
        "# An example of this is if you where to collect the blood pressure for an individual before\n",
        "# and after some treatment, condition, or time point.\n",
        "# ---\n",
        "# Question: Compute the t-test to see if there is a significant difference in blood pressure before and blood pressure after.\n",
        "url = \"http://bit.ly/BloodPressureDataset\"\n",
        "# ---\n",
        "df = pd.read_csv(url)\n",
        "df.head()\n",
        "\n",
        "# In order for the paired sample t-test results to be trusted, the following assumptions need to be met:\n",
        "# 1. The dependent variable (DV) must be continuous which is measured on an interval or ratio scale\n",
        "# 2. The DV should be approximately normally distributed\n",
        "# - Testing for normality needs to be conducted on the differences between the two conditions, not the raw values of each condition itself\n",
        "# - The paired sample t-test is robust to this violation. If there is a violation of normality, as long as it’s not in a major violation the test results can be considered valid\n",
        "# 3. The DV should not contain any significant outliers\n",
        "# If any of these assumptions are violated, a different test should be used.\n",
        "# An alternative to the paired sample t-test is the Wilcoxon signed-rank Test.\n",
        "\n",
        "# Step 1:\n",
        "# Taking a look at our data\n",
        "# ---\n",
        "df[['bp_before','bp_after']].describe()\n"
      ]
    },
    {
      "cell_type": "code",
      "execution_count": null,
      "metadata": {
        "id": "7qap1be7N_gY",
        "outputId": "0177411c-ba40-4a2e-f022-cce0f7d84d8b"
      },
      "outputs": [
        {
          "data": {
            "text/plain": [
              "<AxesSubplot:>"
            ]
          },
          "execution_count": 38,
          "metadata": {},
          "output_type": "execute_result"
        },
        {
          "data": {
            "image/png": "[encoded data removed]",
            "text/plain": [
              "<Figure size 432x288 with 1 Axes>"
            ]
          },
          "metadata": {
            "needs_background": "light"
          },
          "output_type": "display_data"
        }
      ],
      "source": [
        "\n",
        "# Step 2:\n",
        "# Checking for any significant outliers in each of the variables\n",
        "# ---\n",
        "df[['bp_before', 'bp_after']].plot(kind='box')\n",
        "\n"
      ]
    },
    {
      "cell_type": "code",
      "execution_count": null,
      "metadata": {
        "id": "fQQ8ltbIN_gY"
      },
      "outputs": [],
      "source": [
        "# Step 2:\n",
        "# Remember that for the dependent sample T-test the normality check needs to be conducted on differences\n",
        "# between the two scores. There are a few ways one can test this assumption – make a histogram, use a Q-Q plot,\n",
        "# and/or use a statistical test. Let’s create a variable for the differences and run through these.\n",
        "\n"
      ]
    },
    {
      "cell_type": "code",
      "execution_count": null,
      "metadata": {
        "id": "FZAjUkEJN_gZ",
        "outputId": "04308199-a8ba-4dfa-da3d-019b238b17b9"
      },
      "outputs": [
        {
          "data": {
            "text/plain": [
              "Text(0.5, 1.0, 'Blood pressure Difference Q-Q Plot')"
            ]
          },
          "execution_count": 40,
          "metadata": {},
          "output_type": "execute_result"
        },
        {
          "data": {
            "image/png": "[encoded data removed]",
            "text/plain": [
              "<Figure size 432x288 with 1 Axes>"
            ]
          },
          "metadata": {
            "needs_background": "light"
          },
          "output_type": "display_data"
        }
      ],
      "source": [
        "# Step 3:\n",
        "# The histogram of our data seems to be normally distributed.\n",
        "# Another way to check for normally distributed data is to use a Q-Q plot.\n",
        "# If you’re unfamiliar with how to read a Q-Q plot, the data should be on the red line.\n",
        "# If it’s not, then it suggests that the data may not be normally distributed.\n",
        "# ---\n",
        "\n",
        "df['bp_difference'] = df['bp_after'] - df['bp_before']\n",
        "stats.probplot(df['bp_difference'], plot= plt)\n",
        "plt.title('Blood pressure Difference Q-Q Plot')\n",
        "\n"
      ]
    },
    {
      "cell_type": "code",
      "execution_count": null,
      "metadata": {
        "id": "kcp1DPzfN_ga",
        "outputId": "9e9fb55d-711f-45e5-c76d-ea47584ee260"
      },
      "outputs": [
        {
          "data": {
            "text/plain": [
              "ShapiroResult(statistic=0.9926842451095581, pvalue=0.7841846942901611)"
            ]
          },
          "execution_count": 41,
          "metadata": {},
          "output_type": "execute_result"
        }
      ],
      "source": [
        "# Step 4:\n",
        "# There is some deviation from normality, but it does not appear to be severe so there is no need to worry.\n",
        "# To be sure, let’s test this statistically to see if the data is normally distributed.\n",
        "# To test this, one can use the Shapiro-Wilk test for normality. Unfortunately the output is not labeled.\n",
        "# The first value is the W test value, and the second value it the p-value.\n",
        "# ---\n",
        "stats.shapiro(df['bp_difference'])\n",
        "\n",
        "\n",
        "# Step 4:\n",
        "# The test was non-significant. Therefore, the difference between the two conditions is normally distributed.\n",
        "# If this test were to be significant, an appropriate alternative to use would be the Wilcoxon signed-rank Test."
      ]
    },
    {
      "cell_type": "code",
      "execution_count": null,
      "metadata": {
        "id": "Y2VMXeL-N_gf",
        "outputId": "b78012f2-e499-45d9-ff59-6d86f7f8383a"
      },
      "outputs": [
        {
          "data": {
            "text/plain": [
              "Ttest_relResult(statistic=3.3371870510833657, pvalue=0.0011297914644840823)"
            ]
          },
          "execution_count": 42,
          "metadata": {},
          "output_type": "execute_result"
        }
      ],
      "source": [
        "\n",
        "\n",
        "# Step 5:\n",
        "# To conduct the paired sample t-test, one needs to use the stats.ttest_rel() method.\n",
        "stats.ttest_rel(df['bp_before'], df['bp_after'])\n",
        "\n"
      ]
    },
    {
      "cell_type": "code",
      "execution_count": null,
      "metadata": {
        "id": "y4vpqHQnN_gg"
      },
      "outputs": [],
      "source": [
        "# Step 6:\n",
        "# We can conclude that the findings are statistically significant."
      ]
    },
    {
      "cell_type": "markdown",
      "metadata": {
        "id": "3WZOXiv-N_gh"
      },
      "source": [
        "**NB:** The **scipy.stats.ttest_rel** function is used for the independent t-test"
      ]
    },
    {
      "cell_type": "markdown",
      "metadata": {
        "id": "v62ToGb9N_gi"
      },
      "source": []
    },
    {
      "cell_type": "code",
      "execution_count": null,
      "metadata": {
        "id": "UBnAsqIBN_gj"
      },
      "outputs": [],
      "source": []
    },
    {
      "cell_type": "markdown",
      "metadata": {
        "id": "lkPhEEtWN_gk"
      },
      "source": [
        "### 2. Independent (Two-Sample) t-Test\n",
        "Purpose: Compares the means of two independent groups.\n",
        "\n",
        "Example: Comparing the exam scores of students from two different schools."
      ]
    },
    {
      "cell_type": "markdown",
      "metadata": {
        "id": "y5b-hRbFN_gl"
      },
      "source": [
        "**Hypothesis:**\n",
        "\n",
        "**Null Hypothesis (H0):** The means of the two independent groups are equal.\n",
        "\n",
        "**Alternative Hypothesis (H1):** The means of the two independent groups are not equal.\n",
        "\n",
        "\n",
        "**Example Hypotheses:**\n",
        "\n",
        "**H0:** The average of group 1 is equal to the average of group 2.\n",
        "\n",
        "**H1:** The average of group 1 is not equal to the average of group 2.\n",
        "\n",
        "\n",
        "**alt**\n",
        "\n",
        "\n",
        "**H0: μ1 = μ2** (Mean of group 1 is equal to the mean of group 2)\n",
        "\n",
        "**H1: μ1 ≠ μ2** (Mean of group 1 is not equal to the mean of group 2)"
      ]
    },
    {
      "cell_type": "code",
      "execution_count": null,
      "metadata": {
        "id": "Jtzr927mN_gm",
        "outputId": "a413f553-4003-46bc-a9d9-3e9f780d60b9"
      },
      "outputs": [
        {
          "name": "stdout",
          "output_type": "stream",
          "text": [
            "Independent (Two-Sample) t-Test:\n",
            "T-Statistic: -5.489948531973766, P-Value: 0.0001384724899167652\n"
          ]
        }
      ],
      "source": [
        "# Sample data for two independent groups\n",
        "group1 = [2.9, 3.1, 3.2, 3.5, 3.0, 3.1, 2.9]\n",
        "group2 = [3.4, 3.7, 3.5, 3.6, 3.8, 3.6, 3.7]\n",
        "\n",
        "# Perform independent t-test\n",
        "t_statistic, p_value = stats.ttest_ind(group1, group2)\n",
        "\n",
        "print(f\"Independent (Two-Sample) t-Test:\\nT-Statistic: {t_statistic}, P-Value: {p_value}\")"
      ]
    },
    {
      "cell_type": "code",
      "execution_count": null,
      "metadata": {
        "id": "9oBbM6uLN_go"
      },
      "outputs": [],
      "source": [
        "# Another Example: Independent T-test\n",
        "# ---\n",
        "# As we had learnt from our suggested readings, the independent t-test is also called the two sample t-test,\n",
        "# student’s t-test, or unpaired t-test.\n",
        "# It’s a parametric test that tests for a significant difference between the mean\n",
        "# of two independent (unrelated) groups.\n",
        "# ---\n",
        "# Compute the t-test to see if there is a significant difference in the sepal width\n",
        "# between the species Iris-setosa and Iris-versicolor which are variables “sepal_width”\n",
        "# and “species” respectively.\n",
        "# Load the Iris dataset\n",
        "from sklearn.datasets import load_iris\n",
        "iris = load_iris()\n",
        "iris_df = pd.DataFrame(data=iris.data, columns=iris.feature_names)\n",
        "iris_df['species'] = iris.target"
      ]
    },
    {
      "cell_type": "code",
      "execution_count": null,
      "metadata": {
        "id": "AJQbb_BsN_go"
      },
      "outputs": [],
      "source": [
        "\n",
        "\n",
        "# Map target integers to species names\n",
        "species_map = {0: 'setosa', 1: 'versicolor', 2: 'virginica'}\n",
        "iris_df['species'] = iris_df['species'].map(species_map)\n",
        "\n"
      ]
    },
    {
      "cell_type": "code",
      "execution_count": null,
      "metadata": {
        "id": "w-7Iq77zN_gp"
      },
      "outputs": [],
      "source": [
        "# Extract sepal widths for versicolor and setosa\n",
        "versicolor_sepal_width = iris_df[iris_df['species'] == 'versicolor']['sepal width (cm)']\n",
        "setosa_sepal_width = iris_df[iris_df['species'] == 'setosa']['sepal width (cm)']"
      ]
    },
    {
      "cell_type": "code",
      "execution_count": null,
      "metadata": {
        "id": "n3H5QNuDN_gq",
        "outputId": "4c2b3a25-8dd3-43da-9e19-7f9100a3cf10"
      },
      "outputs": [
        {
          "name": "stdout",
          "output_type": "stream",
          "text": [
            "T-Statistic: -9.454975848128596\n",
            "P-Value: 1.8452599454769322e-15\n"
          ]
        }
      ],
      "source": [
        "# Perform independent t-test\n",
        "t_statistic, p_value = stats.ttest_ind(versicolor_sepal_width, setosa_sepal_width)\n",
        "\n",
        "print(f\"T-Statistic: {t_statistic}\")\n",
        "print(f\"P-Value: {p_value}\")\n"
      ]
    },
    {
      "cell_type": "code",
      "execution_count": null,
      "metadata": {
        "id": "7ILbYNOWN_gw",
        "outputId": "30c03f2f-dd2f-417a-e57d-9edf764e4843"
      },
      "outputs": [
        {
          "name": "stdout",
          "output_type": "stream",
          "text": [
            "Versicolor Sepal Width: Mean = 2.7700000000000005, Std = 0.3137983233784114\n",
            "Setosa Sepal Width: Mean = 3.428000000000001, Std = 0.3790643690962886\n"
          ]
        }
      ],
      "source": [
        "# Display the mean and standard deviation for each group\n",
        "print(f\"Versicolor Sepal Width: Mean = {versicolor_sepal_width.mean()}, Std = {versicolor_sepal_width.std()}\")\n",
        "print(f\"Setosa Sepal Width: Mean = {setosa_sepal_width.mean()}, Std = {setosa_sepal_width.std()}\")\n"
      ]
    },
    {
      "cell_type": "markdown",
      "metadata": {
        "id": "YJpPYdQxN_gx"
      },
      "source": [
        "**NB:** The **scipy.stats.ttest_ind** function is used for the independent t-test"
      ]
    },
    {
      "cell_type": "code",
      "execution_count": null,
      "metadata": {
        "id": "rvn9hSIUN_gx"
      },
      "outputs": [],
      "source": []
    },
    {
      "cell_type": "code",
      "execution_count": null,
      "metadata": {
        "id": "ajFt2OlnN_gy"
      },
      "outputs": [],
      "source": []
    },
    {
      "cell_type": "markdown",
      "metadata": {
        "heading_collapsed": true,
        "hidden": true,
        "id": "nEtWuMszN_gy"
      },
      "source": [
        "### An Alternative Method in Making a Decision"
      ]
    },
    {
      "cell_type": "markdown",
      "metadata": {
        "hidden": true,
        "id": "r2PyXj22N_gy"
      },
      "source": [
        "We used SciPy above to calculate our $t$-value and ultimately our p-value from the $t$-distribution.\n",
        "\n",
        "Alternatively, we can convert our significance level $\\alpha$ using the $t$-distribution to get our **critical value $t^*$**. We then can compare $t^*$ with our $t$-statistic to determine if it's significant."
      ]
    },
    {
      "cell_type": "code",
      "execution_count": null,
      "metadata": {
        "hidden": true,
        "id": "QQ3iTwemN_gz",
        "outputId": "59eeb48f-84a5-4959-feb0-9908fc73cdd6"
      },
      "outputs": [
        {
          "data": {
            "text/plain": [
              "-6.785944569870411"
            ]
          },
          "execution_count": 7,
          "metadata": {},
          "output_type": "execute_result"
        }
      ],
      "source": [
        "# Let's continue to assume our alpha is 0.05\n",
        "x_bar = 8562\n",
        "mu = 9000\n",
        "sample_std = np.std(gab)\n",
        "n = 20\n",
        "\n",
        "t_stat = (x_bar - mu)/(sample_std/np.sqrt(n))\n",
        "t_stat"
      ]
    },
    {
      "cell_type": "code",
      "execution_count": null,
      "metadata": {
        "hidden": true,
        "id": "fdrGMwdDN_g0",
        "outputId": "8dade492-2bcd-48ba-904d-8c32138863c7"
      },
      "outputs": [
        {
          "data": {
            "text/plain": [
              "-1.7291328115213678"
            ]
          },
          "execution_count": 8,
          "metadata": {},
          "output_type": "execute_result"
        }
      ],
      "source": [
        "# Calculate our t-critical value t*\n",
        "stats.t.ppf(0.05, n-1)"
      ]
    },
    {
      "cell_type": "markdown",
      "metadata": {
        "hidden": true,
        "id": "3tXMLSgMN_g0"
      },
      "source": [
        "We can again confidently reject our null hypothesis since the absolute value of our $t$-statistic is larger than that of our critical value $t^*$."
      ]
    },
    {
      "cell_type": "markdown",
      "metadata": {
        "heading_collapsed": true,
        "id": "7UlrsAM9N_g1"
      },
      "source": [
        "# Exercises"
      ]
    },
    {
      "cell_type": "markdown",
      "metadata": {
        "heading_collapsed": true,
        "hidden": true,
        "id": "c9jbF6BlN_g1"
      },
      "source": [
        "## Gotta Have My Coffee! ☕️"
      ]
    },
    {
      "cell_type": "markdown",
      "metadata": {
        "hidden": true,
        "id": "2mcqD3I5N_g2"
      },
      "source": [
        "A coffee shop relocates from Manhattan to Brooklyn and wants to make sure that all lattes are consistent before and after their move. They buy a new machine and hire a new barista. In Manhattan, lattes are made with 4 oz of espresso. A random sample of 25 lattes made in their new store in Brooklyn shows a mean of 4.6 oz and standard deviation of 0.22 oz. Are their lattes different now that they've relocated to Brooklyn? Use a significance level of $\\alpha = 0.01$."
      ]
    },
    {
      "cell_type": "markdown",
      "metadata": {
        "hidden": true,
        "id": "hQphHkdgN_g2"
      },
      "source": [
        "**State the null and alternative hypotheses**"
      ]
    },
    {
      "cell_type": "code",
      "execution_count": null,
      "metadata": {
        "hidden": true,
        "id": "F2u7EcOTN_g3"
      },
      "outputs": [],
      "source": [
        "# Your Answer Here"
      ]
    },
    {
      "cell_type": "markdown",
      "metadata": {
        "id": "GFT-hj49N_g4"
      },
      "source": [
        "<details>\n",
        "    <summary>Answer</summary>\n",
        "Null: The Brooklyn lattes are not different in size from the Manhattan lattes. <br/>\n",
        "Alternative: The Brooklyn lattes are different in size from the Manhattan lattes.\n",
        "    </details>"
      ]
    },
    {
      "cell_type": "markdown",
      "metadata": {
        "hidden": true,
        "id": "S5q_mCtQN_g4"
      },
      "source": [
        "**Perform the test.**"
      ]
    },
    {
      "cell_type": "code",
      "execution_count": null,
      "metadata": {
        "hidden": true,
        "id": "afgXinHGN_g5"
      },
      "outputs": [],
      "source": []
    },
    {
      "cell_type": "markdown",
      "metadata": {
        "id": "jQU6ibj9N_g5"
      },
      "source": [
        "<details>\n",
        "    <summary>Answer</summary>\n",
        "    <code>t_stat = (4.6 - 4) / (0.22 / np.sqrt(25))\n",
        "# This is a two-tailed test, so we want 1/2 of the 1% for\n",
        "# the right tail and 1/2 for the left tail.\n",
        "t_crit = stats.t.ppf(0.995, df=24)\n",
        "print(\"t-statistic: \", t_stat)\n",
        "print(\"critical t-value: \", t_crit)\n",
        "print(\"p-value: \", stats.t(df=24).sf(t_stat))</code>\n",
        "    </details>"
      ]
    },
    {
      "cell_type": "markdown",
      "metadata": {
        "hidden": true,
        "id": "iNCfdQQRN_g6"
      },
      "source": [
        "**Make a decision**."
      ]
    },
    {
      "cell_type": "code",
      "execution_count": null,
      "metadata": {
        "hidden": true,
        "id": "YCZbZJPBN_g6"
      },
      "outputs": [],
      "source": []
    },
    {
      "cell_type": "markdown",
      "metadata": {
        "id": "f1NAa6VbN_g6"
      },
      "source": [
        "<details>\n",
        "    <summary>Answer</summary>\n",
        "    Because the p-value is lower than our threshold of 1% (or, equivalently, because our t-statistic is larger than the critical t-statistic), we should reject the null hypothesis. The Brooklyn lattes are different!\n",
        "    </details>"
      ]
    },
    {
      "cell_type": "markdown",
      "metadata": {
        "heading_collapsed": true,
        "hidden": true,
        "id": "zrZyMfDTN_g7"
      },
      "source": [
        "## Gotta Have My Pants! 👖"
      ]
    },
    {
      "cell_type": "markdown",
      "metadata": {
        "hidden": true,
        "id": "ARYO2x4pN_g7"
      },
      "source": [
        "I'm buying jeans from Pants-a-torium. I know nothing about their inventory other than prices after looking at some random jean prices:\n",
        "\n",
        "``` python\n",
        "[20, 30, 30, 50, 75, 25, 30, 30, 40, 80]\n",
        "```\n",
        "However, I know that my typical pants store (Pants-R-Us) sells jeans at an average price of \\\\$58 with a standard deviation of \\\\$18. (Yes, I do descriptive statistics while I shop. Why do you ask?)\n",
        "\n",
        "Should I go just to one store for a less expensive pair of jeans? I'm pretty apprehensive about my decision, so $\\alpha = 0.1$."
      ]
    },
    {
      "cell_type": "markdown",
      "metadata": {
        "hidden": true,
        "id": "D78Ju06iN_g_"
      },
      "source": [
        "**State the null and alternative hypotheses**"
      ]
    },
    {
      "cell_type": "code",
      "execution_count": null,
      "metadata": {
        "hidden": true,
        "id": "1kGc1qvDN_hD"
      },
      "outputs": [],
      "source": []
    },
    {
      "cell_type": "markdown",
      "metadata": {
        "id": "txCbItzBN_hE"
      },
      "source": [
        "<details>\n",
        "    <summary>Answer</summary>\n",
        "    Null: The pants at Pants-a-torium are not cheaper than the pants at Pants-R-Us.\n",
        "    Alternative: The pants at Pants-a-torium are cheaper than the pants at Pants-R-Us.\n",
        "    </details>"
      ]
    },
    {
      "cell_type": "markdown",
      "metadata": {
        "hidden": true,
        "id": "_w2O_IiEN_hF"
      },
      "source": [
        "**Perform the test.**"
      ]
    },
    {
      "cell_type": "code",
      "execution_count": null,
      "metadata": {
        "hidden": true,
        "id": "y0dUhYpRN_hG"
      },
      "outputs": [],
      "source": []
    },
    {
      "cell_type": "markdown",
      "metadata": {
        "id": "pzydryAnN_hG"
      },
      "source": [
        "<details>\n",
        "    <summary>Answer</summary>\n",
        "    <code>pantsatorium = [20, 30, 30, 50, 75, 25, 30, 30, 40, 80]\n",
        "stats.ttest_1samp(a=pantsatorium, popmean=58)</code>\n",
        "</details>"
      ]
    },
    {
      "cell_type": "markdown",
      "metadata": {
        "hidden": true,
        "id": "4q6KcOcDN_hJ"
      },
      "source": [
        "**Make a decision.**"
      ]
    },
    {
      "cell_type": "code",
      "execution_count": null,
      "metadata": {
        "hidden": true,
        "id": "kN9jPGrHN_hT"
      },
      "outputs": [],
      "source": []
    },
    {
      "cell_type": "markdown",
      "metadata": {
        "id": "qZERiVPSN_hT"
      },
      "source": [
        "<details>\n",
        "    <summary>Answer</summary>\n",
        "The p-value is smaller than our critical level of 10%, so we'll reject the null!\n",
        "    </details>"
      ]
    },
    {
      "cell_type": "markdown",
      "metadata": {
        "heading_collapsed": true,
        "hidden": true,
        "id": "Yn6dUIQHN_hU"
      },
      "source": [
        "## Gotta Have My Food Delivered! 🚚"
      ]
    },
    {
      "cell_type": "markdown",
      "metadata": {
        "hidden": true,
        "id": "2k6yXcwHN_hU"
      },
      "source": [
        "You measure the delivery times of ten different restaurants in two different neighborhoods. You want to know if restaurants in the different neighborhoods have the same delivery times. Set your significance threshold to 0.05.\n",
        "\n",
        "We measured this for neighborhood A:\n",
        "\n",
        "``` python\n",
        "delivery_times_A = [28.4, 23.3, 30.4, 28.1, 29.4, 30.6, 27.8, 30.9, 27.0, 32.8]\n",
        "```\n",
        "\n",
        "For neighborhood B, someone already reported the values as a mean time of 26.8 minutes and a standard deviation of 2.6 minutes.\n"
      ]
    },
    {
      "cell_type": "markdown",
      "metadata": {
        "hidden": true,
        "id": "xDKfwJkON_hW"
      },
      "source": [
        "**State the null and alternative hypotheses.**"
      ]
    },
    {
      "cell_type": "code",
      "execution_count": null,
      "metadata": {
        "hidden": true,
        "id": "zRA1E5SxN_hW"
      },
      "outputs": [],
      "source": []
    },
    {
      "cell_type": "markdown",
      "metadata": {
        "id": "9LdfAH6TN_hW"
      },
      "source": [
        "<details>\n",
        "    <summary>Answer</summary>\n",
        "Null: The delivery times for the restaurants in Neighborhood A are the same as the times for the restaurants in Neighborhood B. <br/>\n",
        "Alternative: The delivery times for the restaurants in Neighborhood A are NOT the same as the times for the restaurants in  Neighborhood B.\n",
        "    <details>"
      ]
    },
    {
      "cell_type": "markdown",
      "metadata": {
        "hidden": true,
        "id": "VAGKKJYlN_hX"
      },
      "source": [
        "**Perform the test.**"
      ]
    },
    {
      "cell_type": "code",
      "execution_count": null,
      "metadata": {
        "hidden": true,
        "id": "ZUgWzP6VN_hY"
      },
      "outputs": [],
      "source": []
    },
    {
      "cell_type": "markdown",
      "metadata": {
        "id": "4KRpiFjBN_hY"
      },
      "source": [
        "<details>\n",
        "    <summary>Answer</summary>\n",
        "    This is a TWO-SAMPLE problem. So we'll use stats.ttest_ind_from_stats(). The two sets don't have exactly the same variance, so we'll perform Welch's test by setting the equal_var parameter to False. <br/>\n",
        "    <code>delivery_times_A = [28.4, 23.3, 30.4, 28.1, 29.4, 30.6, 27.8, 30.9, 27.0, 32.8]\n",
        "mean_A = np.mean(delivery_times_A)\n",
        "std_A = np.std(delivery_times_A)\n",
        "nobs_A = len(delivery_times_A)\n",
        "mean_B = 26.8\n",
        "std_B = 2.6\n",
        "nobs_B = 10\n",
        "stats.ttest_ind_from_stats(mean1=mean_A, std1=std_A, nobs1=nobs_A,\n",
        "                          mean2=mean_B, std2=std_B, nobs2=nobs_B,\n",
        "        equal_var=False)</code>\n",
        "</details>"
      ]
    },
    {
      "cell_type": "markdown",
      "metadata": {
        "hidden": true,
        "id": "O023l_k8N_hZ"
      },
      "source": [
        "**Make a decision.**"
      ]
    },
    {
      "cell_type": "code",
      "execution_count": null,
      "metadata": {
        "hidden": true,
        "id": "UaQUzIw_N_hZ"
      },
      "outputs": [],
      "source": []
    },
    {
      "cell_type": "markdown",
      "metadata": {
        "id": "1icISBBmN_hZ"
      },
      "source": [
        "<details>\n",
        "    <summary>Answer</summary>\n",
        "    The p-value is greater than our threshold value of 5%, so we can't reject the null hypothesis that the two neighborhoods have the same restaurant delivery times.\n",
        "    </details>"
      ]
    },
    {
      "cell_type": "markdown",
      "metadata": {
        "heading_collapsed": true,
        "id": "xDdTdb39N_ha"
      },
      "source": [
        "# Level Up: More practice problems!"
      ]
    },
    {
      "cell_type": "markdown",
      "metadata": {
        "hidden": true,
        "id": "TKu6wRTsN_hb"
      },
      "source": [
        "1. A rental car company claims the mean time to rent a car on their website is 60 seconds with a standard deviation of 30 seconds. A random sample of 36 customers attempted to rent a car on the website. The mean time to rent was 75 seconds. Is this enough evidence to contradict the company's claim at a significance level of $\\alpha = 0.05$?"
      ]
    },
    {
      "cell_type": "markdown",
      "metadata": {
        "hidden": true,
        "id": "2DMlTEfqN_hb"
      },
      "source": [
        "Null hypothesis:\n",
        "\n",
        "Alternative hypothesis:\n"
      ]
    },
    {
      "cell_type": "markdown",
      "metadata": {
        "id": "BrFo0sWeN_hb"
      },
      "source": [
        "<details>\n",
        "    <summary>Answer</summary>\n",
        "    Null: The customers' rent time is not different from what the company claims.\n",
        "    Alternative: The customers' rent time is different from what the company claims.\n",
        "    </details>"
      ]
    },
    {
      "cell_type": "code",
      "execution_count": null,
      "metadata": {
        "hidden": true,
        "id": "COT3zwwrN_hc"
      },
      "outputs": [],
      "source": [
        "# one-sample z-test\n"
      ]
    },
    {
      "cell_type": "markdown",
      "metadata": {
        "id": "XX7q46i-N_hc"
      },
      "source": [
        "<details>\n",
        "    <summary>Answer</summary>\n",
        "<code>z_stat = (75 - 60) / (30 / np.sqrt(36))\n",
        "stats.norm.cdf(z_stat)</code>\n",
        "    </details>"
      ]
    },
    {
      "cell_type": "markdown",
      "metadata": {
        "hidden": true,
        "id": "5leIM6frN_he"
      },
      "source": [
        "Reject?:"
      ]
    },
    {
      "cell_type": "markdown",
      "metadata": {
        "id": "W66Br3hVN_he"
      },
      "source": [
        "<details>\n",
        "    <summary>Answer</summary>\n",
        "    Yes, reject the null hypothesis! The p-value is less than our threshold of 5%.\n",
        "    </details>"
      ]
    },
    {
      "cell_type": "markdown",
      "metadata": {
        "hidden": true,
        "id": "_giI8TQzN_hf"
      },
      "source": [
        "2. Consider the gain in weight (in grams) of 19 female rats between 28 and 84 days after birth.\n",
        "\n",
        "Twelve rats were fed on a high-protein diet and seven rats were fed on a low-protein diet.\n",
        "\n",
        "``` python\n",
        "high_protein = [134, 146, 104, 119, 124, 161, 107, 83, 113, 129, 97, 123]\n",
        "low_protein = [70, 118, 101, 85, 107, 132, 94]\n",
        "```\n",
        "\n",
        "Is there any difference in the weight gain of rats fed on high protein diet vs low protein diet? It's OK to assume equal sample variances."
      ]
    },
    {
      "cell_type": "markdown",
      "metadata": {
        "hidden": true,
        "id": "Xbxci6-rN_hg"
      },
      "source": [
        "Null and alternative hypotheses?"
      ]
    },
    {
      "cell_type": "markdown",
      "metadata": {
        "hidden": true,
        "id": "pemzA3FUN_hh"
      },
      "source": [
        "> null:\n",
        "\n",
        "> alternative:"
      ]
    },
    {
      "cell_type": "markdown",
      "metadata": {
        "id": "dn0YHAE0N_hi"
      },
      "source": [
        "<details>\n",
        "    <summary>Answer</summary>\n",
        "    Null: The rats with the high-protein diet and the rats with the low-protein diet had the same weight gain. <br/>\n",
        "    Alternative: The rats with the high-protein diet and the rats with the low-protein diet did not have the same weight gain.\n",
        "    </details>"
      ]
    },
    {
      "cell_type": "markdown",
      "metadata": {
        "hidden": true,
        "id": "wo_ntdN7N_hj"
      },
      "source": [
        "What kind of test should we perform and why?"
      ]
    },
    {
      "cell_type": "markdown",
      "metadata": {
        "hidden": true,
        "id": "kYkR2afON_hj"
      },
      "source": [
        "> Test:"
      ]
    },
    {
      "cell_type": "markdown",
      "metadata": {
        "hidden": true,
        "id": "gzgrCzlSN_hj"
      },
      "source": [
        "<details>\n",
        "    <summary>Answer</summary>\n",
        "    Two-sample two-tailed t-test, since we have small sample sizes. See the Level-Up section below!\n",
        "    </details>"
      ]
    },
    {
      "cell_type": "markdown",
      "metadata": {
        "id": "LyVpW8k9N_hk"
      },
      "source": [
        "Perform the test. Do we reject the null hypothesis?"
      ]
    },
    {
      "cell_type": "code",
      "execution_count": null,
      "metadata": {
        "id": "gRoioEolN_hk"
      },
      "outputs": [],
      "source": []
    },
    {
      "cell_type": "markdown",
      "metadata": {
        "id": "9F2b1nNdN_hm"
      },
      "source": [
        "<details>\n",
        "    <summary>Answer</summary>\n",
        "<code>high_protein = [134, 146, 104, 119, 124, 161, 107, 83, 113, 129, 97, 123]\n",
        "low_protein = [70, 118, 101, 85, 107, 132, 94]\n",
        "stats.ttest_ind(a=high_protein, b=low_protein)</code>\n",
        "\n",
        "We fail to reject the null hypothesis at a significance level of $\\alpha = 0.05$.\n",
        "    </details>"
      ]
    },
    {
      "cell_type": "markdown",
      "metadata": {
        "hidden": true,
        "id": "010CAyNqN_ho"
      },
      "source": [
        "**What if we wanted to test if the rats who ate a high-protein diet gained *more* weight than those who ate a low-protein diet?**"
      ]
    },
    {
      "cell_type": "markdown",
      "metadata": {
        "hidden": true,
        "id": "a5uW4S6NN_ho"
      },
      "source": [
        "Null:\n",
        "\n",
        "alternative:"
      ]
    },
    {
      "cell_type": "markdown",
      "metadata": {
        "id": "DTmkUwadN_hp"
      },
      "source": [
        "<details>\n",
        "    <summary>Answer</summary>\n",
        "    Null: The rats with the high-protein diet did not gain more weight than the rats with the low-protein diet. <br/>\n",
        "    Alternative: The rats with the high-protein diet gained more weight than the rats with the low-protein diet."
      ]
    },
    {
      "cell_type": "markdown",
      "metadata": {
        "hidden": true,
        "id": "Ff26F9H9N_hq"
      },
      "source": [
        "Kind of test?"
      ]
    },
    {
      "cell_type": "markdown",
      "metadata": {
        "id": "r9gS0Hs_N_hr"
      },
      "source": [
        "<details>\n",
        "    <summary>Answer</summary>\n",
        "    Now we need a two-sample ONE-tailed test.\n",
        "    </details>"
      ]
    },
    {
      "cell_type": "markdown",
      "metadata": {
        "hidden": true,
        "id": "nQUtrBUVN_hs"
      },
      "source": [
        "Critical test statistic value?"
      ]
    },
    {
      "cell_type": "code",
      "execution_count": null,
      "metadata": {
        "hidden": true,
        "id": "bJShmp61N_hs"
      },
      "outputs": [],
      "source": []
    },
    {
      "cell_type": "markdown",
      "metadata": {
        "id": "3PW1FSPwN_ht"
      },
      "source": [
        "<details>\n",
        "    <summary>Answer</summary>\n",
        "    <code>h_bar = np.mean(high_protein)\n",
        "l_bar = np.mean(low_protein)\n",
        "h_df = len(high_protein) - 1\n",
        "l_df = len(low_protein) - 1\n",
        "pooled_var = (h_df*np.var(high_protein) + l_df*np.var(low_protein)) / (h_df + l_df)\n",
        "t_stat = (h_bar - l_bar) / np.sqrt(pooled_var * (1/len(high_protein) + 1/len(low_protein)))\n",
        "t_stat</code>\n",
        "    </details>"
      ]
    },
    {
      "cell_type": "markdown",
      "metadata": {
        "hidden": true,
        "id": "Is8p4IT2N_hw"
      },
      "source": [
        "Can we reject?"
      ]
    },
    {
      "cell_type": "code",
      "execution_count": null,
      "metadata": {
        "hidden": true,
        "id": "dqAzlesxN_hz"
      },
      "outputs": [],
      "source": []
    },
    {
      "cell_type": "markdown",
      "metadata": {
        "id": "OLJSQ5lAN_h2"
      },
      "source": [
        "<details>\n",
        "    <summary>Answer</summary>\n",
        "    <code>stats.t(df=h_df+l_df).cdf(t_stat)</code>\n",
        "    \n",
        "    Yes, we can reject the null hypothesis!\n",
        "    </details>"
      ]
    },
    {
      "cell_type": "markdown",
      "metadata": {
        "heading_collapsed": true,
        "id": "qnfjs3ubN_h6"
      },
      "source": [
        "# Level Up:  Two sample $t$-tests"
      ]
    },
    {
      "cell_type": "markdown",
      "metadata": {
        "hidden": true,
        "id": "f3dZzWuNN_h7"
      },
      "source": [
        "Sometimes, we are interested in determining whether two population means are equal. In this case, we use two-sample $t$-tests.\n",
        "\n",
        "There are two types of two-sample t-tests: **paired** and **independent** (unpaired) tests.\n",
        "\n",
        "What's the difference?  \n",
        "\n",
        "**Paired tests**: How is a sample affected by a certain treatment? The individuals in the sample remain the same and you compare how they change after treatment.\n",
        "\n",
        "**Independent tests**: When we compare two different, unrelated samples to each other, we use an independent (or unpaired) two-sample t-test."
      ]
    },
    {
      "cell_type": "markdown",
      "metadata": {
        "hidden": true,
        "id": "8xDZycjUN_h7"
      },
      "source": [
        "The test statistic for an unpaired two-sample t-test is slightly different than the test statistic for the one-sample $t$-test.\n",
        "\n",
        "Assuming equal variances, the test statistic for a two-sample $t$-test is given by:\n",
        "\n",
        "$$ t = \\frac{\\bar{x_1} - \\bar{x_2}}{\\sqrt{s^2 \\left( \\frac{1}{n_1} + \\frac{1}{n_2} \\right)}}$$\n",
        "\n",
        "where $s^2$ is the pooled sample variance,\n",
        "\n",
        "$$ s^2 = \\frac{\\sum_{i=1}^{n_1} \\left(x_i - \\bar{x_1}\\right)^2 + \\sum_{j=1}^{n_2} \\left(x_j - \\bar{x_2}\\right)^2 }{n_1 + n_2 - 2} $$\n",
        "\n",
        "Here, $n_1$ is the sample size of sample 1 and $n_2$ is the sample size of sample 2.\n",
        "\n",
        "An independent two-sample $t$-test for samples of size $n_1$ and $n_2$ has $(n_1 + n_2 - 2)$ degrees of freedom."
      ]
    },
    {
      "cell_type": "markdown",
      "metadata": {
        "hidden": true,
        "id": "3rk53Kr2N_h8"
      },
      "source": [
        "Now let's say we want to compare our Gabonese elephants to a sample of elephants from Kenya."
      ]
    },
    {
      "cell_type": "code",
      "execution_count": null,
      "metadata": {
        "hidden": true,
        "id": "8_D2M9EGN_h8"
      },
      "outputs": [],
      "source": [
        "ken = [8762, 8880, 8743, 8901,\n",
        "        8252, 8966, 8369, 9001,\n",
        "         8857, 8147, 8927, 9005,\n",
        "         9083, 8477, 8760, 8915,\n",
        "         8927, 8829, 8579, 9002]\n",
        "\n",
        "\n",
        "print(np.std(ken))\n",
        "print(np.std(gab))"
      ]
    },
    {
      "cell_type": "code",
      "execution_count": null,
      "metadata": {
        "hidden": true,
        "id": "R6bym0pwN_iA"
      },
      "outputs": [],
      "source": [
        "# so\n",
        "\n",
        "x_1 = np.mean(gab)\n",
        "x_2 = np.mean(ken)\n",
        "s_1_2 = np.var(gab, ddof = 1)\n",
        "s_2_2 = np.var(ken, ddof = 1)\n",
        "n_1 = len(gab)\n",
        "n_2 = len(ken)\n",
        "s_p_2 = ((n_1 - 1)*s_1_2 + (n_2 - 1 )* s_2_2)/(n_1 + n_2 -2)\n",
        "\n",
        "t = (x_1 - x_2)/np.sqrt(s_p_2*(1/n_1 + 1/n_2))\n",
        "t"
      ]
    },
    {
      "cell_type": "code",
      "execution_count": null,
      "metadata": {
        "hidden": true,
        "id": "lMM0wpEsN_iB"
      },
      "outputs": [],
      "source": [
        "s_p_2 = ((n_1 - 1)*s_1_2 + (n_2 - 1 )* s_2_2)/(n_1 + n_2 -2)\n",
        "s_p_2"
      ]
    },
    {
      "cell_type": "code",
      "execution_count": null,
      "metadata": {
        "hidden": true,
        "id": "kNi7DnbrN_iC"
      },
      "outputs": [],
      "source": [
        "print(s_1_2, s_2_2 )"
      ]
    },
    {
      "cell_type": "code",
      "execution_count": null,
      "metadata": {
        "hidden": true,
        "id": "EEbjgfnDN_iD"
      },
      "outputs": [],
      "source": [
        "stats.ttest_ind(gab, ken, equal_var=False)"
      ]
    }
  ],
  "metadata": {
    "kernelspec": {
      "display_name": "Python 3",
      "language": "python",
      "name": "python3"
    },
    "language_info": {
      "codemirror_mode": {
        "name": "ipython",
        "version": 3
      },
      "file_extension": ".py",
      "mimetype": "text/x-python",
      "name": "python",
      "nbconvert_exporter": "python",
      "pygments_lexer": "ipython3",
      "version": "3.9.7"
    },
    "toc": {
      "base_numbering": 1,
      "nav_menu": {},
      "number_sections": true,
      "sideBar": true,
      "skip_h1_title": false,
      "title_cell": "Table of Contents",
      "title_sidebar": "TOC",
      "toc_cell": true,
      "toc_position": {
        "height": "calc(100% - 180px)",
        "left": "10px",
        "top": "150px",
        "width": "288px"
      },
      "toc_section_display": true,
      "toc_window_display": true
    },
    "colab": {
      "provenance": [],
      "include_colab_link": true
    }
  },
  "nbformat": 4,
  "nbformat_minor": 0
}